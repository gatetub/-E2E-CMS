{
  "nbformat": 4,
  "nbformat_minor": 0,
  "metadata": {
    "colab": {
      "provenance": [],
      "machine_shape": "hm",
      "gpuType": "A100"
    },
    "kernelspec": {
      "name": "python3",
      "display_name": "Python 3"
    },
    "language_info": {
      "name": "python"
    },
    "accelerator": "GPU"
  },
  "cells": [
    {
      "cell_type": "code",
      "execution_count": 1,
      "metadata": {
        "colab": {
          "base_uri": "https://localhost:8080/"
        },
        "id": "m8tqnTtMMQ2l",
        "outputId": "09a50583-50d8-40af-93e5-b1ee9a6e9af4"
      },
      "outputs": [
        {
          "output_type": "stream",
          "name": "stdout",
          "text": [
            "Mounted at /content/drive\n"
          ]
        }
      ],
      "source": [
        "# prompt: mount drive\n",
        "\n",
        "from google.colab import drive\n",
        "drive.mount('/content/drive')\n"
      ]
    },
    {
      "cell_type": "code",
      "source": [
        "\n",
        "import numpy as np\n",
        "\n",
        "# Load the data from the .npz file\n",
        "data = np.load('/content/rotated_mnist (1).npz')\n",
        "\n",
        "# Access the data arrays\n",
        "rotated_x_train = data['x_train']\n",
        "rotated_y_train = data['y_train']\n",
        "rotated_x_test = data['x_test']\n",
        "rotated_y_test = data['y_test']\n",
        "\n",
        "# Print the shape of the data arrays to show the data clust\n",
        "print(\"Shape of rotated_x_train:\", rotated_x_train.shape)\n",
        "print(\"Shape of rotated_y_train:\", rotated_y_train.shape)\n",
        "print(\"Shape of rotated_x_test:\", rotated_x_test.shape)\n",
        "print(\"Shape of rotated_y_test:\", rotated_y_test.shape)\n"
      ],
      "metadata": {
        "colab": {
          "base_uri": "https://localhost:8080/"
        },
        "id": "UNr29JbvMiOH",
        "outputId": "41d3b4c9-0e1c-496a-baac-755ba0943189"
      },
      "execution_count": 4,
      "outputs": [
        {
          "output_type": "stream",
          "name": "stdout",
          "text": [
            "Shape of rotated_x_train: (152400, 28, 28)\n",
            "Shape of rotated_y_train: (152400,)\n",
            "Shape of rotated_x_test: (26004, 28, 28)\n",
            "Shape of rotated_y_test: (26004,)\n"
          ]
        }
      ]
    },
    {
      "cell_type": "code",
      "source": [
        "!pip install tensorflow\n",
        "import tensorflow as tf\n",
        "from tensorflow import keras\n",
        "from tensorflow.keras import layers"
      ],
      "metadata": {
        "colab": {
          "base_uri": "https://localhost:8080/"
        },
        "id": "FSAjXxXWNyQZ",
        "outputId": "5c313d74-00c9-4b95-8e29-5238b2e367c7"
      },
      "execution_count": 5,
      "outputs": [
        {
          "output_type": "stream",
          "name": "stdout",
          "text": [
            "Requirement already satisfied: tensorflow in /usr/local/lib/python3.11/dist-packages (2.18.0)\n",
            "Requirement already satisfied: absl-py>=1.0.0 in /usr/local/lib/python3.11/dist-packages (from tensorflow) (1.4.0)\n",
            "Requirement already satisfied: astunparse>=1.6.0 in /usr/local/lib/python3.11/dist-packages (from tensorflow) (1.6.3)\n",
            "Requirement already satisfied: flatbuffers>=24.3.25 in /usr/local/lib/python3.11/dist-packages (from tensorflow) (25.2.10)\n",
            "Requirement already satisfied: gast!=0.5.0,!=0.5.1,!=0.5.2,>=0.2.1 in /usr/local/lib/python3.11/dist-packages (from tensorflow) (0.6.0)\n",
            "Requirement already satisfied: google-pasta>=0.1.1 in /usr/local/lib/python3.11/dist-packages (from tensorflow) (0.2.0)\n",
            "Requirement already satisfied: libclang>=13.0.0 in /usr/local/lib/python3.11/dist-packages (from tensorflow) (18.1.1)\n",
            "Requirement already satisfied: opt-einsum>=2.3.2 in /usr/local/lib/python3.11/dist-packages (from tensorflow) (3.4.0)\n",
            "Requirement already satisfied: packaging in /usr/local/lib/python3.11/dist-packages (from tensorflow) (24.2)\n",
            "Requirement already satisfied: protobuf!=4.21.0,!=4.21.1,!=4.21.2,!=4.21.3,!=4.21.4,!=4.21.5,<6.0.0dev,>=3.20.3 in /usr/local/lib/python3.11/dist-packages (from tensorflow) (5.29.4)\n",
            "Requirement already satisfied: requests<3,>=2.21.0 in /usr/local/lib/python3.11/dist-packages (from tensorflow) (2.32.3)\n",
            "Requirement already satisfied: setuptools in /usr/local/lib/python3.11/dist-packages (from tensorflow) (75.2.0)\n",
            "Requirement already satisfied: six>=1.12.0 in /usr/local/lib/python3.11/dist-packages (from tensorflow) (1.17.0)\n",
            "Requirement already satisfied: termcolor>=1.1.0 in /usr/local/lib/python3.11/dist-packages (from tensorflow) (2.5.0)\n",
            "Requirement already satisfied: typing-extensions>=3.6.6 in /usr/local/lib/python3.11/dist-packages (from tensorflow) (4.13.0)\n",
            "Requirement already satisfied: wrapt>=1.11.0 in /usr/local/lib/python3.11/dist-packages (from tensorflow) (1.17.2)\n",
            "Requirement already satisfied: grpcio<2.0,>=1.24.3 in /usr/local/lib/python3.11/dist-packages (from tensorflow) (1.71.0)\n",
            "Requirement already satisfied: tensorboard<2.19,>=2.18 in /usr/local/lib/python3.11/dist-packages (from tensorflow) (2.18.0)\n",
            "Requirement already satisfied: keras>=3.5.0 in /usr/local/lib/python3.11/dist-packages (from tensorflow) (3.8.0)\n",
            "Requirement already satisfied: numpy<2.1.0,>=1.26.0 in /usr/local/lib/python3.11/dist-packages (from tensorflow) (2.0.2)\n",
            "Requirement already satisfied: h5py>=3.11.0 in /usr/local/lib/python3.11/dist-packages (from tensorflow) (3.13.0)\n",
            "Requirement already satisfied: ml-dtypes<0.5.0,>=0.4.0 in /usr/local/lib/python3.11/dist-packages (from tensorflow) (0.4.1)\n",
            "Requirement already satisfied: tensorflow-io-gcs-filesystem>=0.23.1 in /usr/local/lib/python3.11/dist-packages (from tensorflow) (0.37.1)\n",
            "Requirement already satisfied: wheel<1.0,>=0.23.0 in /usr/local/lib/python3.11/dist-packages (from astunparse>=1.6.0->tensorflow) (0.45.1)\n",
            "Requirement already satisfied: rich in /usr/local/lib/python3.11/dist-packages (from keras>=3.5.0->tensorflow) (13.9.4)\n",
            "Requirement already satisfied: namex in /usr/local/lib/python3.11/dist-packages (from keras>=3.5.0->tensorflow) (0.0.8)\n",
            "Requirement already satisfied: optree in /usr/local/lib/python3.11/dist-packages (from keras>=3.5.0->tensorflow) (0.14.1)\n",
            "Requirement already satisfied: charset-normalizer<4,>=2 in /usr/local/lib/python3.11/dist-packages (from requests<3,>=2.21.0->tensorflow) (3.4.1)\n",
            "Requirement already satisfied: idna<4,>=2.5 in /usr/local/lib/python3.11/dist-packages (from requests<3,>=2.21.0->tensorflow) (3.10)\n",
            "Requirement already satisfied: urllib3<3,>=1.21.1 in /usr/local/lib/python3.11/dist-packages (from requests<3,>=2.21.0->tensorflow) (2.3.0)\n",
            "Requirement already satisfied: certifi>=2017.4.17 in /usr/local/lib/python3.11/dist-packages (from requests<3,>=2.21.0->tensorflow) (2025.1.31)\n",
            "Requirement already satisfied: markdown>=2.6.8 in /usr/local/lib/python3.11/dist-packages (from tensorboard<2.19,>=2.18->tensorflow) (3.7)\n",
            "Requirement already satisfied: tensorboard-data-server<0.8.0,>=0.7.0 in /usr/local/lib/python3.11/dist-packages (from tensorboard<2.19,>=2.18->tensorflow) (0.7.2)\n",
            "Requirement already satisfied: werkzeug>=1.0.1 in /usr/local/lib/python3.11/dist-packages (from tensorboard<2.19,>=2.18->tensorflow) (3.1.3)\n",
            "Requirement already satisfied: MarkupSafe>=2.1.1 in /usr/local/lib/python3.11/dist-packages (from werkzeug>=1.0.1->tensorboard<2.19,>=2.18->tensorflow) (3.0.2)\n",
            "Requirement already satisfied: markdown-it-py>=2.2.0 in /usr/local/lib/python3.11/dist-packages (from rich->keras>=3.5.0->tensorflow) (3.0.0)\n",
            "Requirement already satisfied: pygments<3.0.0,>=2.13.0 in /usr/local/lib/python3.11/dist-packages (from rich->keras>=3.5.0->tensorflow) (2.18.0)\n",
            "Requirement already satisfied: mdurl~=0.1 in /usr/local/lib/python3.11/dist-packages (from markdown-it-py>=2.2.0->rich->keras>=3.5.0->tensorflow) (0.1.2)\n"
          ]
        }
      ]
    },
    {
      "cell_type": "markdown",
      "source": [
        "#Loading pre-trained vae model"
      ],
      "metadata": {
        "id": "9jkeSwrRNtKL"
      }
    },
    {
      "cell_type": "code",
      "source": [
        "\n",
        "latent_dim = 32  # Adjust as needed\n",
        "\n",
        "def sampling(args):\n",
        "    z_mean, z_log_var = args\n",
        "    batch = tf.shape(z_mean)[0]\n",
        "    dim = tf.shape(z_mean)[1]\n",
        "    epsilon = tf.random.normal(shape=(batch, dim))\n",
        "    return z_mean + tf.exp(0.5 * z_log_var) * epsilon\n",
        "\n",
        "encoder_inputs = keras.Input(shape=(28, 28, 1))\n",
        "x = layers.Conv2D(32, 3, activation=\"relu\", strides=2, padding=\"same\")(encoder_inputs)\n",
        "x = layers.Conv2D(64, 3, activation=\"relu\", strides=2, padding=\"same\")(x)\n",
        "x = layers.Flatten()(x)\n",
        "x = layers.Dense(16, activation=\"relu\")(x)\n",
        "z_mean = layers.Dense(latent_dim, name=\"z_mean\")(x)\n",
        "z_log_var = layers.Dense(latent_dim, name=\"z_log_var\")(x)\n",
        "z = layers.Lambda(sampling, output_shape=(latent_dim,), name='z')([z_mean, z_log_var])\n",
        "\n",
        "encoder = keras.Model(encoder_inputs, [z_mean, z_log_var, z], name=\"encoder\")\n",
        "encoder.summary()\n",
        "\n",
        "latent_inputs = keras.Input(shape=(latent_dim,))\n",
        "x = layers.Dense(7 * 7 * 64, activation=\"relu\")(latent_inputs)\n",
        "x = layers.Reshape((7, 7, 64))(x)\n",
        "x = layers.Conv2DTranspose(64, 3, activation=\"relu\", strides=2, padding=\"same\")(x)\n",
        "x = layers.Conv2DTranspose(32, 3, activation=\"relu\", strides=2, padding=\"same\")(x)\n",
        "decoder_outputs = layers.Conv2DTranspose(1, 3, activation=\"sigmoid\", padding=\"same\")(x)\n",
        "decoder = keras.Model(latent_inputs, decoder_outputs, name=\"decoder\")\n",
        "decoder.summary()\n",
        "\n",
        "class VAE(keras.Model):\n",
        "    def __init__(self, encoder, decoder, **kwargs):\n",
        "        super(VAE, self).__init__(**kwargs)\n",
        "        self.encoder = encoder\n",
        "        self.decoder = decoder\n",
        "        self.total_loss_tracker = keras.metrics.Mean(name=\"total_loss\")\n",
        "        self.reconstruction_loss_tracker = keras.metrics.Mean(\n",
        "            name=\"reconstruction_loss\"\n",
        "        )\n",
        "        self.kl_loss_tracker = keras.metrics.Mean(name=\"kl_loss\")\n",
        "\n",
        "    @property\n",
        "    def metrics(self):\n",
        "        return [\n",
        "            self.total_loss_tracker,\n",
        "            self.reconstruction_loss_tracker,\n",
        "            self.kl_loss_tracker,\n",
        "        ]\n",
        "\n",
        "    def call(self, inputs):\n",
        "        z_mean, z_log_var, z = self.encoder(inputs)\n",
        "        #z = self.sampling(z_mean, z_log_var)#added\n",
        "        reconstruction = self.decoder(z)\n",
        "        return reconstruction\n",
        "\n",
        "    def sampling(self, z_mean, z_log_var):\n",
        "        epsilon = tf.random.normal(shape=tf.shape(z_mean))\n",
        "        return z_mean + tf.exp(0.5 * z_log_var) * epsilon\n",
        "\n",
        "    def train_step(self, data):\n",
        "        with tf.GradientTape() as tape:\n",
        "            z_mean, z_log_var, z = self.encoder(data)\n",
        "            reconstruction = self.decoder(z)\n",
        "            reconstruction_loss = tf.reduce_mean(\n",
        "                tf.reduce_sum(\n",
        "                    keras.losses.binary_crossentropy(data, reconstruction), axis=(1, 2)\n",
        "                )\n",
        "            )\n",
        "            kl_loss = -0.5 * (1 + z_log_var - tf.square(z_mean) - tf.exp(z_log_var))\n",
        "            kl_loss = tf.reduce_mean(tf.reduce_sum(kl_loss, axis=1))\n",
        "            total_loss = reconstruction_loss + kl_loss\n",
        "        grads = tape.gradient(total_loss, self.trainable_weights)\n",
        "        self.optimizer.apply_gradients(zip(grads, self.trainable_weights))\n",
        "        self.total_loss_tracker.update_state(total_loss)\n",
        "        self.reconstruction_loss_tracker.update_state(reconstruction_loss)\n",
        "        self.kl_loss_tracker.update_state(kl_loss)\n",
        "        return {\n",
        "            \"loss\": self.total_loss_tracker.result(),\n",
        "            \"reconstruction_loss\": self.reconstruction_loss_tracker.result(),\n",
        "            \"kl_loss\": self.kl_loss_tracker.result(),\n",
        "        }\n"
      ],
      "metadata": {
        "colab": {
          "base_uri": "https://localhost:8080/",
          "height": 705
        },
        "id": "dJn2Aw7ZNI7l",
        "outputId": "b7d415ad-9bd7-4b69-e556-246f7755883f"
      },
      "execution_count": 6,
      "outputs": [
        {
          "output_type": "display_data",
          "data": {
            "text/plain": [
              "\u001b[1mModel: \"encoder\"\u001b[0m\n"
            ],
            "text/html": [
              "<pre style=\"white-space:pre;overflow-x:auto;line-height:normal;font-family:Menlo,'DejaVu Sans Mono',consolas,'Courier New',monospace\"><span style=\"font-weight: bold\">Model: \"encoder\"</span>\n",
              "</pre>\n"
            ]
          },
          "metadata": {}
        },
        {
          "output_type": "display_data",
          "data": {
            "text/plain": [
              "┏━━━━━━━━━━━━━━━━━━━━━━━━━━━┳━━━━━━━━━━━━━━━━━━━━━━━━┳━━━━━━━━━━━━━━━━┳━━━━━━━━━━━━━━━━━━━━━━━━┓\n",
              "┃\u001b[1m \u001b[0m\u001b[1mLayer (type)             \u001b[0m\u001b[1m \u001b[0m┃\u001b[1m \u001b[0m\u001b[1mOutput Shape          \u001b[0m\u001b[1m \u001b[0m┃\u001b[1m \u001b[0m\u001b[1m       Param #\u001b[0m\u001b[1m \u001b[0m┃\u001b[1m \u001b[0m\u001b[1mConnected to          \u001b[0m\u001b[1m \u001b[0m┃\n",
              "┡━━━━━━━━━━━━━━━━━━━━━━━━━━━╇━━━━━━━━━━━━━━━━━━━━━━━━╇━━━━━━━━━━━━━━━━╇━━━━━━━━━━━━━━━━━━━━━━━━┩\n",
              "│ input_layer (\u001b[38;5;33mInputLayer\u001b[0m)  │ (\u001b[38;5;45mNone\u001b[0m, \u001b[38;5;34m28\u001b[0m, \u001b[38;5;34m28\u001b[0m, \u001b[38;5;34m1\u001b[0m)      │              \u001b[38;5;34m0\u001b[0m │ -                      │\n",
              "├───────────────────────────┼────────────────────────┼────────────────┼────────────────────────┤\n",
              "│ conv2d (\u001b[38;5;33mConv2D\u001b[0m)           │ (\u001b[38;5;45mNone\u001b[0m, \u001b[38;5;34m14\u001b[0m, \u001b[38;5;34m14\u001b[0m, \u001b[38;5;34m32\u001b[0m)     │            \u001b[38;5;34m320\u001b[0m │ input_layer[\u001b[38;5;34m0\u001b[0m][\u001b[38;5;34m0\u001b[0m]      │\n",
              "├───────────────────────────┼────────────────────────┼────────────────┼────────────────────────┤\n",
              "│ conv2d_1 (\u001b[38;5;33mConv2D\u001b[0m)         │ (\u001b[38;5;45mNone\u001b[0m, \u001b[38;5;34m7\u001b[0m, \u001b[38;5;34m7\u001b[0m, \u001b[38;5;34m64\u001b[0m)       │         \u001b[38;5;34m18,496\u001b[0m │ conv2d[\u001b[38;5;34m0\u001b[0m][\u001b[38;5;34m0\u001b[0m]           │\n",
              "├───────────────────────────┼────────────────────────┼────────────────┼────────────────────────┤\n",
              "│ flatten (\u001b[38;5;33mFlatten\u001b[0m)         │ (\u001b[38;5;45mNone\u001b[0m, \u001b[38;5;34m3136\u001b[0m)           │              \u001b[38;5;34m0\u001b[0m │ conv2d_1[\u001b[38;5;34m0\u001b[0m][\u001b[38;5;34m0\u001b[0m]         │\n",
              "├───────────────────────────┼────────────────────────┼────────────────┼────────────────────────┤\n",
              "│ dense (\u001b[38;5;33mDense\u001b[0m)             │ (\u001b[38;5;45mNone\u001b[0m, \u001b[38;5;34m16\u001b[0m)             │         \u001b[38;5;34m50,192\u001b[0m │ flatten[\u001b[38;5;34m0\u001b[0m][\u001b[38;5;34m0\u001b[0m]          │\n",
              "├───────────────────────────┼────────────────────────┼────────────────┼────────────────────────┤\n",
              "│ z_mean (\u001b[38;5;33mDense\u001b[0m)            │ (\u001b[38;5;45mNone\u001b[0m, \u001b[38;5;34m32\u001b[0m)             │            \u001b[38;5;34m544\u001b[0m │ dense[\u001b[38;5;34m0\u001b[0m][\u001b[38;5;34m0\u001b[0m]            │\n",
              "├───────────────────────────┼────────────────────────┼────────────────┼────────────────────────┤\n",
              "│ z_log_var (\u001b[38;5;33mDense\u001b[0m)         │ (\u001b[38;5;45mNone\u001b[0m, \u001b[38;5;34m32\u001b[0m)             │            \u001b[38;5;34m544\u001b[0m │ dense[\u001b[38;5;34m0\u001b[0m][\u001b[38;5;34m0\u001b[0m]            │\n",
              "├───────────────────────────┼────────────────────────┼────────────────┼────────────────────────┤\n",
              "│ z (\u001b[38;5;33mLambda\u001b[0m)                │ (\u001b[38;5;45mNone\u001b[0m, \u001b[38;5;34m32\u001b[0m)             │              \u001b[38;5;34m0\u001b[0m │ z_mean[\u001b[38;5;34m0\u001b[0m][\u001b[38;5;34m0\u001b[0m],          │\n",
              "│                           │                        │                │ z_log_var[\u001b[38;5;34m0\u001b[0m][\u001b[38;5;34m0\u001b[0m]        │\n",
              "└───────────────────────────┴────────────────────────┴────────────────┴────────────────────────┘\n"
            ],
            "text/html": [
              "<pre style=\"white-space:pre;overflow-x:auto;line-height:normal;font-family:Menlo,'DejaVu Sans Mono',consolas,'Courier New',monospace\">┏━━━━━━━━━━━━━━━━━━━━━━━━━━━┳━━━━━━━━━━━━━━━━━━━━━━━━┳━━━━━━━━━━━━━━━━┳━━━━━━━━━━━━━━━━━━━━━━━━┓\n",
              "┃<span style=\"font-weight: bold\"> Layer (type)              </span>┃<span style=\"font-weight: bold\"> Output Shape           </span>┃<span style=\"font-weight: bold\">        Param # </span>┃<span style=\"font-weight: bold\"> Connected to           </span>┃\n",
              "┡━━━━━━━━━━━━━━━━━━━━━━━━━━━╇━━━━━━━━━━━━━━━━━━━━━━━━╇━━━━━━━━━━━━━━━━╇━━━━━━━━━━━━━━━━━━━━━━━━┩\n",
              "│ input_layer (<span style=\"color: #0087ff; text-decoration-color: #0087ff\">InputLayer</span>)  │ (<span style=\"color: #00d7ff; text-decoration-color: #00d7ff\">None</span>, <span style=\"color: #00af00; text-decoration-color: #00af00\">28</span>, <span style=\"color: #00af00; text-decoration-color: #00af00\">28</span>, <span style=\"color: #00af00; text-decoration-color: #00af00\">1</span>)      │              <span style=\"color: #00af00; text-decoration-color: #00af00\">0</span> │ -                      │\n",
              "├───────────────────────────┼────────────────────────┼────────────────┼────────────────────────┤\n",
              "│ conv2d (<span style=\"color: #0087ff; text-decoration-color: #0087ff\">Conv2D</span>)           │ (<span style=\"color: #00d7ff; text-decoration-color: #00d7ff\">None</span>, <span style=\"color: #00af00; text-decoration-color: #00af00\">14</span>, <span style=\"color: #00af00; text-decoration-color: #00af00\">14</span>, <span style=\"color: #00af00; text-decoration-color: #00af00\">32</span>)     │            <span style=\"color: #00af00; text-decoration-color: #00af00\">320</span> │ input_layer[<span style=\"color: #00af00; text-decoration-color: #00af00\">0</span>][<span style=\"color: #00af00; text-decoration-color: #00af00\">0</span>]      │\n",
              "├───────────────────────────┼────────────────────────┼────────────────┼────────────────────────┤\n",
              "│ conv2d_1 (<span style=\"color: #0087ff; text-decoration-color: #0087ff\">Conv2D</span>)         │ (<span style=\"color: #00d7ff; text-decoration-color: #00d7ff\">None</span>, <span style=\"color: #00af00; text-decoration-color: #00af00\">7</span>, <span style=\"color: #00af00; text-decoration-color: #00af00\">7</span>, <span style=\"color: #00af00; text-decoration-color: #00af00\">64</span>)       │         <span style=\"color: #00af00; text-decoration-color: #00af00\">18,496</span> │ conv2d[<span style=\"color: #00af00; text-decoration-color: #00af00\">0</span>][<span style=\"color: #00af00; text-decoration-color: #00af00\">0</span>]           │\n",
              "├───────────────────────────┼────────────────────────┼────────────────┼────────────────────────┤\n",
              "│ flatten (<span style=\"color: #0087ff; text-decoration-color: #0087ff\">Flatten</span>)         │ (<span style=\"color: #00d7ff; text-decoration-color: #00d7ff\">None</span>, <span style=\"color: #00af00; text-decoration-color: #00af00\">3136</span>)           │              <span style=\"color: #00af00; text-decoration-color: #00af00\">0</span> │ conv2d_1[<span style=\"color: #00af00; text-decoration-color: #00af00\">0</span>][<span style=\"color: #00af00; text-decoration-color: #00af00\">0</span>]         │\n",
              "├───────────────────────────┼────────────────────────┼────────────────┼────────────────────────┤\n",
              "│ dense (<span style=\"color: #0087ff; text-decoration-color: #0087ff\">Dense</span>)             │ (<span style=\"color: #00d7ff; text-decoration-color: #00d7ff\">None</span>, <span style=\"color: #00af00; text-decoration-color: #00af00\">16</span>)             │         <span style=\"color: #00af00; text-decoration-color: #00af00\">50,192</span> │ flatten[<span style=\"color: #00af00; text-decoration-color: #00af00\">0</span>][<span style=\"color: #00af00; text-decoration-color: #00af00\">0</span>]          │\n",
              "├───────────────────────────┼────────────────────────┼────────────────┼────────────────────────┤\n",
              "│ z_mean (<span style=\"color: #0087ff; text-decoration-color: #0087ff\">Dense</span>)            │ (<span style=\"color: #00d7ff; text-decoration-color: #00d7ff\">None</span>, <span style=\"color: #00af00; text-decoration-color: #00af00\">32</span>)             │            <span style=\"color: #00af00; text-decoration-color: #00af00\">544</span> │ dense[<span style=\"color: #00af00; text-decoration-color: #00af00\">0</span>][<span style=\"color: #00af00; text-decoration-color: #00af00\">0</span>]            │\n",
              "├───────────────────────────┼────────────────────────┼────────────────┼────────────────────────┤\n",
              "│ z_log_var (<span style=\"color: #0087ff; text-decoration-color: #0087ff\">Dense</span>)         │ (<span style=\"color: #00d7ff; text-decoration-color: #00d7ff\">None</span>, <span style=\"color: #00af00; text-decoration-color: #00af00\">32</span>)             │            <span style=\"color: #00af00; text-decoration-color: #00af00\">544</span> │ dense[<span style=\"color: #00af00; text-decoration-color: #00af00\">0</span>][<span style=\"color: #00af00; text-decoration-color: #00af00\">0</span>]            │\n",
              "├───────────────────────────┼────────────────────────┼────────────────┼────────────────────────┤\n",
              "│ z (<span style=\"color: #0087ff; text-decoration-color: #0087ff\">Lambda</span>)                │ (<span style=\"color: #00d7ff; text-decoration-color: #00d7ff\">None</span>, <span style=\"color: #00af00; text-decoration-color: #00af00\">32</span>)             │              <span style=\"color: #00af00; text-decoration-color: #00af00\">0</span> │ z_mean[<span style=\"color: #00af00; text-decoration-color: #00af00\">0</span>][<span style=\"color: #00af00; text-decoration-color: #00af00\">0</span>],          │\n",
              "│                           │                        │                │ z_log_var[<span style=\"color: #00af00; text-decoration-color: #00af00\">0</span>][<span style=\"color: #00af00; text-decoration-color: #00af00\">0</span>]        │\n",
              "└───────────────────────────┴────────────────────────┴────────────────┴────────────────────────┘\n",
              "</pre>\n"
            ]
          },
          "metadata": {}
        },
        {
          "output_type": "display_data",
          "data": {
            "text/plain": [
              "\u001b[1m Total params: \u001b[0m\u001b[38;5;34m70,096\u001b[0m (273.81 KB)\n"
            ],
            "text/html": [
              "<pre style=\"white-space:pre;overflow-x:auto;line-height:normal;font-family:Menlo,'DejaVu Sans Mono',consolas,'Courier New',monospace\"><span style=\"font-weight: bold\"> Total params: </span><span style=\"color: #00af00; text-decoration-color: #00af00\">70,096</span> (273.81 KB)\n",
              "</pre>\n"
            ]
          },
          "metadata": {}
        },
        {
          "output_type": "display_data",
          "data": {
            "text/plain": [
              "\u001b[1m Trainable params: \u001b[0m\u001b[38;5;34m70,096\u001b[0m (273.81 KB)\n"
            ],
            "text/html": [
              "<pre style=\"white-space:pre;overflow-x:auto;line-height:normal;font-family:Menlo,'DejaVu Sans Mono',consolas,'Courier New',monospace\"><span style=\"font-weight: bold\"> Trainable params: </span><span style=\"color: #00af00; text-decoration-color: #00af00\">70,096</span> (273.81 KB)\n",
              "</pre>\n"
            ]
          },
          "metadata": {}
        },
        {
          "output_type": "display_data",
          "data": {
            "text/plain": [
              "\u001b[1m Non-trainable params: \u001b[0m\u001b[38;5;34m0\u001b[0m (0.00 B)\n"
            ],
            "text/html": [
              "<pre style=\"white-space:pre;overflow-x:auto;line-height:normal;font-family:Menlo,'DejaVu Sans Mono',consolas,'Courier New',monospace\"><span style=\"font-weight: bold\"> Non-trainable params: </span><span style=\"color: #00af00; text-decoration-color: #00af00\">0</span> (0.00 B)\n",
              "</pre>\n"
            ]
          },
          "metadata": {}
        },
        {
          "output_type": "display_data",
          "data": {
            "text/plain": [
              "\u001b[1mModel: \"decoder\"\u001b[0m\n"
            ],
            "text/html": [
              "<pre style=\"white-space:pre;overflow-x:auto;line-height:normal;font-family:Menlo,'DejaVu Sans Mono',consolas,'Courier New',monospace\"><span style=\"font-weight: bold\">Model: \"decoder\"</span>\n",
              "</pre>\n"
            ]
          },
          "metadata": {}
        },
        {
          "output_type": "display_data",
          "data": {
            "text/plain": [
              "┏━━━━━━━━━━━━━━━━━━━━━━━━━━━━━━━━━━━━━━┳━━━━━━━━━━━━━━━━━━━━━━━━━━━━━┳━━━━━━━━━━━━━━━━━┓\n",
              "┃\u001b[1m \u001b[0m\u001b[1mLayer (type)                        \u001b[0m\u001b[1m \u001b[0m┃\u001b[1m \u001b[0m\u001b[1mOutput Shape               \u001b[0m\u001b[1m \u001b[0m┃\u001b[1m \u001b[0m\u001b[1m        Param #\u001b[0m\u001b[1m \u001b[0m┃\n",
              "┡━━━━━━━━━━━━━━━━━━━━━━━━━━━━━━━━━━━━━━╇━━━━━━━━━━━━━━━━━━━━━━━━━━━━━╇━━━━━━━━━━━━━━━━━┩\n",
              "│ input_layer_1 (\u001b[38;5;33mInputLayer\u001b[0m)           │ (\u001b[38;5;45mNone\u001b[0m, \u001b[38;5;34m32\u001b[0m)                  │               \u001b[38;5;34m0\u001b[0m │\n",
              "├──────────────────────────────────────┼─────────────────────────────┼─────────────────┤\n",
              "│ dense_1 (\u001b[38;5;33mDense\u001b[0m)                      │ (\u001b[38;5;45mNone\u001b[0m, \u001b[38;5;34m3136\u001b[0m)                │         \u001b[38;5;34m103,488\u001b[0m │\n",
              "├──────────────────────────────────────┼─────────────────────────────┼─────────────────┤\n",
              "│ reshape (\u001b[38;5;33mReshape\u001b[0m)                    │ (\u001b[38;5;45mNone\u001b[0m, \u001b[38;5;34m7\u001b[0m, \u001b[38;5;34m7\u001b[0m, \u001b[38;5;34m64\u001b[0m)            │               \u001b[38;5;34m0\u001b[0m │\n",
              "├──────────────────────────────────────┼─────────────────────────────┼─────────────────┤\n",
              "│ conv2d_transpose (\u001b[38;5;33mConv2DTranspose\u001b[0m)   │ (\u001b[38;5;45mNone\u001b[0m, \u001b[38;5;34m14\u001b[0m, \u001b[38;5;34m14\u001b[0m, \u001b[38;5;34m64\u001b[0m)          │          \u001b[38;5;34m36,928\u001b[0m │\n",
              "├──────────────────────────────────────┼─────────────────────────────┼─────────────────┤\n",
              "│ conv2d_transpose_1 (\u001b[38;5;33mConv2DTranspose\u001b[0m) │ (\u001b[38;5;45mNone\u001b[0m, \u001b[38;5;34m28\u001b[0m, \u001b[38;5;34m28\u001b[0m, \u001b[38;5;34m32\u001b[0m)          │          \u001b[38;5;34m18,464\u001b[0m │\n",
              "├──────────────────────────────────────┼─────────────────────────────┼─────────────────┤\n",
              "│ conv2d_transpose_2 (\u001b[38;5;33mConv2DTranspose\u001b[0m) │ (\u001b[38;5;45mNone\u001b[0m, \u001b[38;5;34m28\u001b[0m, \u001b[38;5;34m28\u001b[0m, \u001b[38;5;34m1\u001b[0m)           │             \u001b[38;5;34m289\u001b[0m │\n",
              "└──────────────────────────────────────┴─────────────────────────────┴─────────────────┘\n"
            ],
            "text/html": [
              "<pre style=\"white-space:pre;overflow-x:auto;line-height:normal;font-family:Menlo,'DejaVu Sans Mono',consolas,'Courier New',monospace\">┏━━━━━━━━━━━━━━━━━━━━━━━━━━━━━━━━━━━━━━┳━━━━━━━━━━━━━━━━━━━━━━━━━━━━━┳━━━━━━━━━━━━━━━━━┓\n",
              "┃<span style=\"font-weight: bold\"> Layer (type)                         </span>┃<span style=\"font-weight: bold\"> Output Shape                </span>┃<span style=\"font-weight: bold\">         Param # </span>┃\n",
              "┡━━━━━━━━━━━━━━━━━━━━━━━━━━━━━━━━━━━━━━╇━━━━━━━━━━━━━━━━━━━━━━━━━━━━━╇━━━━━━━━━━━━━━━━━┩\n",
              "│ input_layer_1 (<span style=\"color: #0087ff; text-decoration-color: #0087ff\">InputLayer</span>)           │ (<span style=\"color: #00d7ff; text-decoration-color: #00d7ff\">None</span>, <span style=\"color: #00af00; text-decoration-color: #00af00\">32</span>)                  │               <span style=\"color: #00af00; text-decoration-color: #00af00\">0</span> │\n",
              "├──────────────────────────────────────┼─────────────────────────────┼─────────────────┤\n",
              "│ dense_1 (<span style=\"color: #0087ff; text-decoration-color: #0087ff\">Dense</span>)                      │ (<span style=\"color: #00d7ff; text-decoration-color: #00d7ff\">None</span>, <span style=\"color: #00af00; text-decoration-color: #00af00\">3136</span>)                │         <span style=\"color: #00af00; text-decoration-color: #00af00\">103,488</span> │\n",
              "├──────────────────────────────────────┼─────────────────────────────┼─────────────────┤\n",
              "│ reshape (<span style=\"color: #0087ff; text-decoration-color: #0087ff\">Reshape</span>)                    │ (<span style=\"color: #00d7ff; text-decoration-color: #00d7ff\">None</span>, <span style=\"color: #00af00; text-decoration-color: #00af00\">7</span>, <span style=\"color: #00af00; text-decoration-color: #00af00\">7</span>, <span style=\"color: #00af00; text-decoration-color: #00af00\">64</span>)            │               <span style=\"color: #00af00; text-decoration-color: #00af00\">0</span> │\n",
              "├──────────────────────────────────────┼─────────────────────────────┼─────────────────┤\n",
              "│ conv2d_transpose (<span style=\"color: #0087ff; text-decoration-color: #0087ff\">Conv2DTranspose</span>)   │ (<span style=\"color: #00d7ff; text-decoration-color: #00d7ff\">None</span>, <span style=\"color: #00af00; text-decoration-color: #00af00\">14</span>, <span style=\"color: #00af00; text-decoration-color: #00af00\">14</span>, <span style=\"color: #00af00; text-decoration-color: #00af00\">64</span>)          │          <span style=\"color: #00af00; text-decoration-color: #00af00\">36,928</span> │\n",
              "├──────────────────────────────────────┼─────────────────────────────┼─────────────────┤\n",
              "│ conv2d_transpose_1 (<span style=\"color: #0087ff; text-decoration-color: #0087ff\">Conv2DTranspose</span>) │ (<span style=\"color: #00d7ff; text-decoration-color: #00d7ff\">None</span>, <span style=\"color: #00af00; text-decoration-color: #00af00\">28</span>, <span style=\"color: #00af00; text-decoration-color: #00af00\">28</span>, <span style=\"color: #00af00; text-decoration-color: #00af00\">32</span>)          │          <span style=\"color: #00af00; text-decoration-color: #00af00\">18,464</span> │\n",
              "├──────────────────────────────────────┼─────────────────────────────┼─────────────────┤\n",
              "│ conv2d_transpose_2 (<span style=\"color: #0087ff; text-decoration-color: #0087ff\">Conv2DTranspose</span>) │ (<span style=\"color: #00d7ff; text-decoration-color: #00d7ff\">None</span>, <span style=\"color: #00af00; text-decoration-color: #00af00\">28</span>, <span style=\"color: #00af00; text-decoration-color: #00af00\">28</span>, <span style=\"color: #00af00; text-decoration-color: #00af00\">1</span>)           │             <span style=\"color: #00af00; text-decoration-color: #00af00\">289</span> │\n",
              "└──────────────────────────────────────┴─────────────────────────────┴─────────────────┘\n",
              "</pre>\n"
            ]
          },
          "metadata": {}
        },
        {
          "output_type": "display_data",
          "data": {
            "text/plain": [
              "\u001b[1m Total params: \u001b[0m\u001b[38;5;34m159,169\u001b[0m (621.75 KB)\n"
            ],
            "text/html": [
              "<pre style=\"white-space:pre;overflow-x:auto;line-height:normal;font-family:Menlo,'DejaVu Sans Mono',consolas,'Courier New',monospace\"><span style=\"font-weight: bold\"> Total params: </span><span style=\"color: #00af00; text-decoration-color: #00af00\">159,169</span> (621.75 KB)\n",
              "</pre>\n"
            ]
          },
          "metadata": {}
        },
        {
          "output_type": "display_data",
          "data": {
            "text/plain": [
              "\u001b[1m Trainable params: \u001b[0m\u001b[38;5;34m159,169\u001b[0m (621.75 KB)\n"
            ],
            "text/html": [
              "<pre style=\"white-space:pre;overflow-x:auto;line-height:normal;font-family:Menlo,'DejaVu Sans Mono',consolas,'Courier New',monospace\"><span style=\"font-weight: bold\"> Trainable params: </span><span style=\"color: #00af00; text-decoration-color: #00af00\">159,169</span> (621.75 KB)\n",
              "</pre>\n"
            ]
          },
          "metadata": {}
        },
        {
          "output_type": "display_data",
          "data": {
            "text/plain": [
              "\u001b[1m Non-trainable params: \u001b[0m\u001b[38;5;34m0\u001b[0m (0.00 B)\n"
            ],
            "text/html": [
              "<pre style=\"white-space:pre;overflow-x:auto;line-height:normal;font-family:Menlo,'DejaVu Sans Mono',consolas,'Courier New',monospace\"><span style=\"font-weight: bold\"> Non-trainable params: </span><span style=\"color: #00af00; text-decoration-color: #00af00\">0</span> (0.00 B)\n",
              "</pre>\n"
            ]
          },
          "metadata": {}
        }
      ]
    },
    {
      "cell_type": "code",
      "source": [
        "# Loading:\n",
        "encoder = encoder #Use the original encoder definition.\n",
        "decoder = decoder #Use the original decoder definition.\n",
        "vae = VAE(encoder, decoder)\n",
        "\n",
        "# Load weights:\n",
        "encoder.load_weights(\"/content/drive/MyDrive/GSOC/GSOC/encoder_weights.weights.h5\")\n",
        "decoder.load_weights(\"/content/drive/MyDrive/GSOC/GSOC/decoder_weights.weights.h5\")\n",
        "\n",
        "print(\"VAE weights loaded, model reconstructed.\")"
      ],
      "metadata": {
        "colab": {
          "base_uri": "https://localhost:8080/"
        },
        "id": "vawjQqVqMUKd",
        "outputId": "63eed586-e057-4dea-e56d-aa3a67d75956"
      },
      "execution_count": 7,
      "outputs": [
        {
          "output_type": "stream",
          "name": "stdout",
          "text": [
            "VAE weights loaded, model reconstructed.\n"
          ]
        }
      ]
    },
    {
      "cell_type": "markdown",
      "source": [
        "#Build and train the classifier"
      ],
      "metadata": {
        "id": "mxvZix9DN2j7"
      }
    },
    {
      "cell_type": "code",
      "source": [
        "import tensorflow as tf\n",
        "from tensorflow import keras\n",
        "from tensorflow.keras import layers\n",
        "\n",
        "# Hyperparameters from document\n",
        "h_norm = 1.0  # Normalization loss weight\n",
        "h_ortho = 1.0  # Orthogonality loss weight\n",
        "\n",
        "\n",
        "_, _, z_train = encoder.predict(rotated_x_train)\n",
        "_, _, z_test = encoder.predict(rotated_x_test)\n",
        "\n",
        "# Define classifier/oracle model\n",
        "def build_classifier(latent_dim):\n",
        "    classifier = keras.Sequential([\n",
        "        layers.Input(shape=(latent_dim,)),\n",
        "        layers.Dense(128, activation='relu'),\n",
        "        layers.Dense(128, activation='relu'),\n",
        "        layers.Dense(32, activation='relu'),\n",
        "        layers.Dense(1, activation='sigmoid')\n",
        "    ])\n",
        "    classifier.compile(\n",
        "        optimizer=keras.optimizers.Adam(learning_rate=1e-3),\n",
        "        loss='binary_crossentropy',\n",
        "        metrics=['accuracy']\n",
        "    )\n",
        "    return classifier\n",
        "\n",
        "# Build and train classifier\n",
        "classifier = build_classifier(latent_dim)\n",
        "history = classifier.fit(\n",
        "    z_train, rotated_y_train,\n",
        "    validation_data=(z_test, rotated_y_test),\n",
        "    epochs=20,\n",
        "    batch_size=128\n",
        ")\n",
        "\n",
        "# Symmetry generator network\n",
        "class SymmetryGenerator(keras.Model):\n",
        "    def __init__(self, latent_dim):\n",
        "        super(SymmetryGenerator, self).__init__()\n",
        "        self.net = keras.Sequential([\n",
        "            layers.Dense(64, activation='relu'),\n",
        "            layers.Dense(64, activation='relu'),\n",
        "            layers.Dense(latent_dim)\n",
        "        ])\n",
        "\n",
        "    def call(self, inputs):\n",
        "        return self.net(inputs)\n",
        "\n",
        "# Enhanced loss functions as in  paper's formulations\n",
        "def invariance_loss(z, generator, classifier, epsilon=1e-3):\n",
        "    z_prime = z + epsilon * generator(z)\n",
        "    return tf.reduce_mean(tf.square(classifier(z) - classifier(z_prime)))\n",
        "\n",
        "def normalization_loss(z, generator):\n",
        "    norms = tf.norm(generator(z), axis=1)\n",
        "    mean_norm = tf.reduce_mean(norms)\n",
        "    return (\n",
        "        tf.reduce_mean(tf.square(norms - 1.0)) +  # Eq. 10 first term\n",
        "        tf.reduce_mean(tf.square(norms - mean_norm))  # Eq. 10 second term\n",
        "    )\n",
        "\n",
        "def orthogonality_loss(generators, z):\n",
        "    loss = 0\n",
        "    for i in range(len(generators)):\n",
        "        for j in range(i+1, len(generators)):\n",
        "            dot_prods = tf.reduce_sum(\n",
        "                generators[i](z) * generators[j](z),\n",
        "                axis=1\n",
        "            )\n",
        "            loss += tf.reduce_mean(tf.square(dot_prods))\n",
        "    return h_ortho * loss\n",
        "\n",
        "\n",
        "def train_symmetry_generator(z, classifier, num_generators=1):\n",
        "    generators = [SymmetryGenerator(latent_dim) for _ in range(num_generators)]\n",
        "    optimizer = keras.optimizers.Adam(learning_rate=3e-4)\n",
        "\n",
        "    for epoch in range(50):\n",
        "        with tf.GradientTape() as tape:\n",
        "            # Calculate each loss component separately\n",
        "            inv_loss = sum(invariance_loss(z, gen, classifier) for gen in generators)\n",
        "            norm_loss = h_norm * sum(normalization_loss(z, gen) for gen in generators)\n",
        "            ortho_loss = orthogonality_loss(generators, z) if num_generators > 1 else 0\n",
        "\n",
        "            total_loss = inv_loss + norm_loss + ortho_loss\n",
        "\n",
        "        grads = tape.gradient(total_loss, [g.trainable_variables for g in generators])\n",
        "        for gen, grad in zip(generators, grads):\n",
        "            optimizer.apply_gradients(zip(grad, gen.trainable_variables))\n",
        "\n",
        "    return generators\n",
        "\n",
        "# Train with orthogonality constraints\n",
        "generators = train_symmetry_generator(z_train, classifier, num_generators=1)\n"
      ],
      "metadata": {
        "colab": {
          "base_uri": "https://localhost:8080/"
        },
        "id": "PPo8hdmQO0RE",
        "outputId": "7ceefece-0559-4a29-b0da-61de5e4592ec"
      },
      "execution_count": 21,
      "outputs": [
        {
          "output_type": "stream",
          "name": "stdout",
          "text": [
            "\u001b[1m4763/4763\u001b[0m \u001b[32m━━━━━━━━━━━━━━━━━━━━\u001b[0m\u001b[37m\u001b[0m \u001b[1m5s\u001b[0m 1ms/step\n",
            "\u001b[1m813/813\u001b[0m \u001b[32m━━━━━━━━━━━━━━━━━━━━\u001b[0m\u001b[37m\u001b[0m \u001b[1m1s\u001b[0m 1ms/step\n",
            "Epoch 1/20\n",
            "\u001b[1m1191/1191\u001b[0m \u001b[32m━━━━━━━━━━━━━━━━━━━━\u001b[0m\u001b[37m\u001b[0m \u001b[1m7s\u001b[0m 4ms/step - accuracy: 0.5251 - loss: -183796896.0000 - val_accuracy: 0.5316 - val_loss: -2775986432.0000\n",
            "Epoch 2/20\n",
            "\u001b[1m1191/1191\u001b[0m \u001b[32m━━━━━━━━━━━━━━━━━━━━\u001b[0m\u001b[37m\u001b[0m \u001b[1m3s\u001b[0m 2ms/step - accuracy: 0.5313 - loss: -11918983168.0000 - val_accuracy: 0.5316 - val_loss: -34078492672.0000\n",
            "Epoch 3/20\n",
            "\u001b[1m1191/1191\u001b[0m \u001b[32m━━━━━━━━━━━━━━━━━━━━\u001b[0m\u001b[37m\u001b[0m \u001b[1m3s\u001b[0m 2ms/step - accuracy: 0.5343 - loss: -84893753344.0000 - val_accuracy: 0.5316 - val_loss: -133070143488.0000\n",
            "Epoch 4/20\n",
            "\u001b[1m1191/1191\u001b[0m \u001b[32m━━━━━━━━━━━━━━━━━━━━\u001b[0m\u001b[37m\u001b[0m \u001b[1m3s\u001b[0m 2ms/step - accuracy: 0.5316 - loss: -283134164992.0000 - val_accuracy: 0.5316 - val_loss: -339975143424.0000\n",
            "Epoch 5/20\n",
            "\u001b[1m1191/1191\u001b[0m \u001b[32m━━━━━━━━━━━━━━━━━━━━\u001b[0m\u001b[37m\u001b[0m \u001b[1m3s\u001b[0m 2ms/step - accuracy: 0.5324 - loss: -669665918976.0000 - val_accuracy: 0.5316 - val_loss: -695308386304.0000\n",
            "Epoch 6/20\n",
            "\u001b[1m1191/1191\u001b[0m \u001b[32m━━━━━━━━━━━━━━━━━━━━\u001b[0m\u001b[37m\u001b[0m \u001b[1m3s\u001b[0m 2ms/step - accuracy: 0.5320 - loss: -1314637742080.0000 - val_accuracy: 0.5316 - val_loss: -1242460979200.0000\n",
            "Epoch 7/20\n",
            "\u001b[1m1191/1191\u001b[0m \u001b[32m━━━━━━━━━━━━━━━━━━━━\u001b[0m\u001b[37m\u001b[0m \u001b[1m3s\u001b[0m 2ms/step - accuracy: 0.5306 - loss: -2288690135040.0000 - val_accuracy: 0.5316 - val_loss: -2029147389952.0000\n",
            "Epoch 8/20\n",
            "\u001b[1m1191/1191\u001b[0m \u001b[32m━━━━━━━━━━━━━━━━━━━━\u001b[0m\u001b[37m\u001b[0m \u001b[1m3s\u001b[0m 2ms/step - accuracy: 0.5298 - loss: -3681084768256.0000 - val_accuracy: 0.5316 - val_loss: -3105001046016.0000\n",
            "Epoch 9/20\n",
            "\u001b[1m1191/1191\u001b[0m \u001b[32m━━━━━━━━━━━━━━━━━━━━\u001b[0m\u001b[37m\u001b[0m \u001b[1m3s\u001b[0m 2ms/step - accuracy: 0.5332 - loss: -5503632015360.0000 - val_accuracy: 0.5316 - val_loss: -4524942032896.0000\n",
            "Epoch 10/20\n",
            "\u001b[1m1191/1191\u001b[0m \u001b[32m━━━━━━━━━━━━━━━━━━━━\u001b[0m\u001b[37m\u001b[0m \u001b[1m3s\u001b[0m 2ms/step - accuracy: 0.5316 - loss: -7954837274624.0000 - val_accuracy: 0.5316 - val_loss: -6346447519744.0000\n",
            "Epoch 11/20\n",
            "\u001b[1m1191/1191\u001b[0m \u001b[32m━━━━━━━━━━━━━━━━━━━━\u001b[0m\u001b[37m\u001b[0m \u001b[1m3s\u001b[0m 2ms/step - accuracy: 0.5301 - loss: -11121402576896.0000 - val_accuracy: 0.5316 - val_loss: -8629671952384.0000\n",
            "Epoch 12/20\n",
            "\u001b[1m1191/1191\u001b[0m \u001b[32m━━━━━━━━━━━━━━━━━━━━\u001b[0m\u001b[37m\u001b[0m \u001b[1m3s\u001b[0m 2ms/step - accuracy: 0.5286 - loss: -15023093055488.0000 - val_accuracy: 0.5316 - val_loss: -11446324822016.0000\n",
            "Epoch 13/20\n",
            "\u001b[1m1191/1191\u001b[0m \u001b[32m━━━━━━━━━━━━━━━━━━━━\u001b[0m\u001b[37m\u001b[0m \u001b[1m3s\u001b[0m 2ms/step - accuracy: 0.5297 - loss: -19804398288896.0000 - val_accuracy: 0.5316 - val_loss: -14866831114240.0000\n",
            "Epoch 14/20\n",
            "\u001b[1m1191/1191\u001b[0m \u001b[32m━━━━━━━━━━━━━━━━━━━━\u001b[0m\u001b[37m\u001b[0m \u001b[1m3s\u001b[0m 2ms/step - accuracy: 0.5309 - loss: -25511384317952.0000 - val_accuracy: 0.5316 - val_loss: -18970251886592.0000\n",
            "Epoch 15/20\n",
            "\u001b[1m1191/1191\u001b[0m \u001b[32m━━━━━━━━━━━━━━━━━━━━\u001b[0m\u001b[37m\u001b[0m \u001b[1m3s\u001b[0m 2ms/step - accuracy: 0.5303 - loss: -32416555073536.0000 - val_accuracy: 0.5316 - val_loss: -23826161205248.0000\n",
            "Epoch 16/20\n",
            "\u001b[1m1191/1191\u001b[0m \u001b[32m━━━━━━━━━━━━━━━━━━━━\u001b[0m\u001b[37m\u001b[0m \u001b[1m3s\u001b[0m 2ms/step - accuracy: 0.5312 - loss: -40520575352832.0000 - val_accuracy: 0.5316 - val_loss: -29510959366144.0000\n",
            "Epoch 17/20\n",
            "\u001b[1m1191/1191\u001b[0m \u001b[32m━━━━━━━━━━━━━━━━━━━━\u001b[0m\u001b[37m\u001b[0m \u001b[1m3s\u001b[0m 2ms/step - accuracy: 0.5316 - loss: -50074843348992.0000 - val_accuracy: 0.5316 - val_loss: -36114626772992.0000\n",
            "Epoch 18/20\n",
            "\u001b[1m1191/1191\u001b[0m \u001b[32m━━━━━━━━━━━━━━━━━━━━\u001b[0m\u001b[37m\u001b[0m \u001b[1m3s\u001b[0m 2ms/step - accuracy: 0.5319 - loss: -60907124162560.0000 - val_accuracy: 0.5316 - val_loss: -43734569844736.0000\n",
            "Epoch 19/20\n",
            "\u001b[1m1191/1191\u001b[0m \u001b[32m━━━━━━━━━━━━━━━━━━━━\u001b[0m\u001b[37m\u001b[0m \u001b[1m3s\u001b[0m 2ms/step - accuracy: 0.5320 - loss: -73517131366400.0000 - val_accuracy: 0.5316 - val_loss: -52443773665280.0000\n",
            "Epoch 20/20\n",
            "\u001b[1m1191/1191\u001b[0m \u001b[32m━━━━━━━━━━━━━━━━━━━━\u001b[0m\u001b[37m\u001b[0m \u001b[1m3s\u001b[0m 2ms/step - accuracy: 0.5311 - loss: -88266216833024.0000 - val_accuracy: 0.5316 - val_loss: -62341047648256.0000\n"
          ]
        }
      ]
    },
    {
      "cell_type": "code",
      "source": [
        "# prompt: save the generator in drive\n",
        "\n",
        "from google.colab import drive\n",
        "import os\n",
        "\n",
        "# Assuming 'generators' is the list of trained generators from the previous code.\n",
        "# Save each generator's weights to your Google Drive.\n",
        "drive.mount('/content/drive')\n",
        "\n",
        "save_dir = '/content/drive/MyDrive/GSOC/saved_generators'  # Specify your desired save directory\n",
        "os.makedirs(save_dir, exist_ok=True)\n",
        "\n",
        "for i, generator in enumerate(generators):\n",
        "    generator.save_weights(os.path.join(save_dir, f'generator_{i}.h5'))\n",
        "\n",
        "print(f\"Generators saved to {save_dir}\")\n"
      ],
      "metadata": {
        "id": "vpXUfi7l0QJd"
      },
      "execution_count": null,
      "outputs": []
    },
    {
      "cell_type": "code",
      "source": [
        "# Apply learned symmetry to generate new samples\n",
        "def generate_symmetric_samples(z, generator, epsilon=0.1):\n",
        "    return z + epsilon * generator(z)\n",
        "\n",
        "\n",
        "augmented_z = generate_symmetric_samples(z_train, generators[0])\n",
        "augmented_images = decoder.predict(augmented_z)\n"
      ],
      "metadata": {
        "colab": {
          "base_uri": "https://localhost:8080/"
        },
        "id": "EqmgQuDzM6-V",
        "outputId": "81ee271c-37e4-4b54-bc4e-98e8909482e7"
      },
      "execution_count": 22,
      "outputs": [
        {
          "output_type": "stream",
          "name": "stdout",
          "text": [
            "\u001b[1m4763/4763\u001b[0m \u001b[32m━━━━━━━━━━━━━━━━━━━━\u001b[0m\u001b[37m\u001b[0m \u001b[1m6s\u001b[0m 1ms/step\n"
          ]
        }
      ]
    },
    {
      "cell_type": "code",
      "source": [
        "import matplotlib.pyplot as plt\n",
        "import numpy as np\n",
        "\n",
        "def visualize_symmetry_effects(original_images, augmented_images, classifier, num_samples=5):\n",
        "    \"\"\"Visualize original vs symmetry-transformed images with classification probabilities\"\"\"\n",
        "\n",
        "    # Get predictions for both sets\n",
        "    orig_probs = classifier.predict(encoder.predict(original_images[:num_samples])[2])\n",
        "    aug_probs = classifier.predict(augmented_z[:num_samples])\n",
        "\n",
        "    plt.figure(figsize=(15, 6))\n",
        "\n",
        "    for i in range(num_samples):\n",
        "        # Original image\n",
        "        plt.subplot(2, num_samples, i+1)\n",
        "        plt.imshow(original_images[i].squeeze(), cmap='gray')\n",
        "        plt.title(f\"Original\\nClass: {int(rotated_y_train[i])}\\nProb: {orig_probs[i][0]:.2f}\")\n",
        "        plt.axis('off')\n",
        "\n",
        "        # Transformed image\n",
        "        plt.subplot(2, num_samples, num_samples+i+1)\n",
        "        plt.imshow(augmented_images[i].squeeze(), cmap='gray')\n",
        "        plt.title(f\"Augmented\\nProb: {aug_probs[i][0]:.2f}\")\n",
        "        plt.axis('off')\n",
        "\n",
        "    plt.tight_layout()\n",
        "    plt.show()\n",
        "\n",
        "# Generate and visualize augmented images\n",
        "visualize_symmetry_effects(rotated_x_train[:5], augmented_images[:5], classifier)\n"
      ],
      "metadata": {
        "colab": {
          "base_uri": "https://localhost:8080/",
          "height": 601
        },
        "id": "rlXVlZoZPFZ0",
        "outputId": "0d3629a3-9205-472b-b54d-f74df645bdcf"
      },
      "execution_count": 23,
      "outputs": [
        {
          "output_type": "stream",
          "name": "stdout",
          "text": [
            "\u001b[1m1/1\u001b[0m \u001b[32m━━━━━━━━━━━━━━━━━━━━\u001b[0m\u001b[37m\u001b[0m \u001b[1m0s\u001b[0m 37ms/step\n",
            "\u001b[1m1/1\u001b[0m \u001b[32m━━━━━━━━━━━━━━━━━━━━\u001b[0m\u001b[37m\u001b[0m \u001b[1m0s\u001b[0m 298ms/step\n",
            "\u001b[1m1/1\u001b[0m \u001b[32m━━━━━━━━━━━━━━━━━━━━\u001b[0m\u001b[37m\u001b[0m \u001b[1m0s\u001b[0m 33ms/step\n"
          ]
        },
        {
          "output_type": "display_data",
          "data": {
            "text/plain": [
              "<Figure size 1500x600 with 10 Axes>"
            ],
            "image/png": "[encoded data removed]"
          },
          "metadata": {}
        }
      ]
    },
    {
      "cell_type": "code",
      "source": [
        "# Apply symmetry transformation to latent space\n",
        "epsilon = 0.1  # Small step size for infinitesimal transformation\n",
        "z_transformed = z_train + epsilon * generators[0](z_train)\n"
      ],
      "metadata": {
        "id": "Tq9YWQ0GOUzT"
      },
      "execution_count": 10,
      "outputs": []
    },
    {
      "cell_type": "code",
      "source": [
        "# Decode the transformed latent representations\n",
        "decoded_images = decoder.predict(z_transformed)\n"
      ],
      "metadata": {
        "colab": {
          "base_uri": "https://localhost:8080/"
        },
        "id": "nzTGLqqgOqIQ",
        "outputId": "080b6acd-c716-4415-d279-e34712726123"
      },
      "execution_count": 11,
      "outputs": [
        {
          "output_type": "stream",
          "name": "stdout",
          "text": [
            "\u001b[1m4763/4763\u001b[0m \u001b[32m━━━━━━━━━━━━━━━━━━━━\u001b[0m\u001b[37m\u001b[0m \u001b[1m6s\u001b[0m 1ms/step\n"
          ]
        }
      ]
    },
    {
      "cell_type": "code",
      "source": [
        "def plot_latent_flow(z_samples, generator, decoder, epsilon=0.1, steps=5):\n",
        "    \"\"\"Visualize continuous symmetry transformations in latent space\"\"\"\n",
        "\n",
        "    flow_images = []\n",
        "    current_z = z_samples.copy()\n",
        "\n",
        "    for _ in range(steps):\n",
        "        current_z = generate_symmetric_samples(current_z, generator, epsilon)\n",
        "        flow_images.append(decoder.predict(current_z))\n",
        "\n",
        "    plt.figure(figsize=(2*steps, 2))\n",
        "    for i in range(steps):\n",
        "        plt.subplot(1, steps, i+1)\n",
        "        plt.imshow(flow_images[i][0].squeeze(), cmap='gray')\n",
        "        plt.title(f\"Step {i+1}\")\n",
        "        plt.axis('off')\n",
        "    plt.show()\n",
        "\n",
        "# Visualize flow for a sample image\n",
        "sample_z = z_train[:1]  # Use first training sample\n",
        "plot_latent_flow(sample_z, generators[0], decoder, epsilon=0.2, steps=5)\n"
      ],
      "metadata": {
        "colab": {
          "base_uri": "https://localhost:8080/",
          "height": 283
        },
        "id": "yBYdvxjXQP6O",
        "outputId": "10085d6d-3c97-4db2-aabb-67627a7da5e4"
      },
      "execution_count": 18,
      "outputs": [
        {
          "output_type": "stream",
          "name": "stdout",
          "text": [
            "\u001b[1m1/1\u001b[0m \u001b[32m━━━━━━━━━━━━━━━━━━━━\u001b[0m\u001b[37m\u001b[0m \u001b[1m0s\u001b[0m 322ms/step\n",
            "\u001b[1m1/1\u001b[0m \u001b[32m━━━━━━━━━━━━━━━━━━━━\u001b[0m\u001b[37m\u001b[0m \u001b[1m0s\u001b[0m 34ms/step\n",
            "\u001b[1m1/1\u001b[0m \u001b[32m━━━━━━━━━━━━━━━━━━━━\u001b[0m\u001b[37m\u001b[0m \u001b[1m0s\u001b[0m 35ms/step\n",
            "\u001b[1m1/1\u001b[0m \u001b[32m━━━━━━━━━━━━━━━━━━━━\u001b[0m\u001b[37m\u001b[0m \u001b[1m0s\u001b[0m 34ms/step\n",
            "\u001b[1m1/1\u001b[0m \u001b[32m━━━━━━━━━━━━━━━━━━━━\u001b[0m\u001b[37m\u001b[0m \u001b[1m0s\u001b[0m 34ms/step\n"
          ]
        },
        {
          "output_type": "display_data",
          "data": {
            "text/plain": [
              "<Figure size 1000x200 with 5 Axes>"
            ],
            "image/png": "[encoded data removed]"
          },
          "metadata": {}
        }
      ]
    },
    {
      "cell_type": "code",
      "source": [
        "import matplotlib.pyplot as plt\n",
        "\n",
        "# Number of images to visualize\n",
        "num_images = 10\n",
        "\n",
        "plt.figure(figsize=(10, 4))\n",
        "for i in range(num_images):\n",
        "    # Original image\n",
        "    plt.subplot(2, num_images, i + 1)\n",
        "    plt.imshow(rotated_x_train[i].squeeze(), cmap='gray')\n",
        "    plt.axis('off')\n",
        "    plt.title(\"Original\")\n",
        "\n",
        "    # Transformed image\n",
        "    plt.subplot(2, num_images, num_images + i + 1)\n",
        "    plt.imshow(decoded_images[i].squeeze(), cmap='gray')\n",
        "    plt.axis('off')\n",
        "    plt.title(\"Transformed\")\n",
        "\n",
        "plt.tight_layout()\n",
        "plt.show()\n"
      ],
      "metadata": {
        "colab": {
          "base_uri": "https://localhost:8080/",
          "height": 309
        },
        "id": "bCcjDaXNOtRc",
        "outputId": "edc90d9d-9b61-4307-d182-efc9e536de87"
      },
      "execution_count": 12,
      "outputs": [
        {
          "output_type": "display_data",
          "data": {
            "text/plain": [
              "<Figure size 1000x400 with 20 Axes>"
            ],
            "image/png": "[encoded data removed]"
          },
          "metadata": {}
        }
      ]
    },
    {
      "cell_type": "code",
      "source": [
        "def analyze_transformations(encoder, decoder, classifier, generator, images):\n",
        "\n",
        "    # Get latent representations\n",
        "    z = encoder.predict(images)[2]\n",
        "\n",
        "    # Generate transformed versions\n",
        "    z_prime = z + 0.1 * generator(z)\n",
        "    x_prime = decoder.predict(z_prime)\n",
        "\n",
        "    # Classification consistency\n",
        "    orig_preds = classifier.predict(z)\n",
        "    trans_preds = classifier.predict(z_prime)\n",
        "    class_consistency = np.mean(np.abs(orig_preds - trans_preds))\n",
        "\n",
        "    # Latent space displacement\n",
        "    latent_change = np.mean(np.linalg.norm(z_prime - z, axis=1))\n",
        "\n",
        "    # Image reconstruction difference\n",
        "    # Reshape x_prime to match the shape of images before calculating MSE\n",
        "    x_prime = x_prime.squeeze() # remove the channel dimension from x_prime\n",
        "    image_mse = np.mean((images - x_prime)**2)\n",
        "\n",
        "    print(f\"Classification Consistency: {class_consistency:.4f}\")\n",
        "    print(f\"Average Latent Displacement: {latent_change:.2f}\")\n",
        "    print(f\"Image Space MSE: {image_mse:.4f}\")\n",
        "\n",
        "# Analyze on validation set\n",
        "analyze_transformations(encoder, decoder, classifier, generators[0], rotated_x_test[:100])"
      ],
      "metadata": {
        "colab": {
          "base_uri": "https://localhost:8080/"
        },
        "id": "-YYeqjknUWb_",
        "outputId": "a76a2795-6a7f-41b5-fdfa-5f87516d276c"
      },
      "execution_count": 28,
      "outputs": [
        {
          "output_type": "stream",
          "name": "stdout",
          "text": [
            "\u001b[1m4/4\u001b[0m \u001b[32m━━━━━━━━━━━━━━━━━━━━\u001b[0m\u001b[37m\u001b[0m \u001b[1m0s\u001b[0m 7ms/step \n",
            "\u001b[1m4/4\u001b[0m \u001b[32m━━━━━━━━━━━━━━━━━━━━\u001b[0m\u001b[37m\u001b[0m \u001b[1m0s\u001b[0m 7ms/step \n",
            "\u001b[1m4/4\u001b[0m \u001b[32m━━━━━━━━━━━━━━━━━━━━\u001b[0m\u001b[37m\u001b[0m \u001b[1m0s\u001b[0m 7ms/step \n",
            "\u001b[1m4/4\u001b[0m \u001b[32m━━━━━━━━━━━━━━━━━━━━\u001b[0m\u001b[37m\u001b[0m \u001b[1m0s\u001b[0m 7ms/step \n",
            "Classification Consistency: 0.0003\n",
            "Average Latent Displacement: 9.53\n",
            "Image Space MSE: 4526.2056\n"
          ]
        }
      ]
    },
    {
      "cell_type": "markdown",
      "source": [
        "#BinaryCrossEntropy in Oracle or Classification model(just for comparison )"
      ],
      "metadata": {
        "id": "Ryp0Eza1Pxbb"
      }
    },
    {
      "cell_type": "code",
      "source": [
        "import tensorflow as tf\n",
        "from tensorflow import keras\n",
        "from tensorflow.keras import layers\n",
        "\n",
        "# Enhanced hyperparameters from paper analysis\n",
        "h_norm = 0.5  # Tuned normalization weight\n",
        "h_ortho = 1.2  # Tuned orthogonality weight\n",
        "epsilon = 1e-4  # Smaller epsilon for better infinitesimal approximation\n",
        "\n",
        "# Improved latent extraction with normalization\n",
        "def get_latent_representations(encoder, data):\n",
        "    _, _, z = encoder.predict(data)\n",
        "    z = (z - tf.reduce_mean(z, axis=0)) / tf.math.reduce_std(z, axis=0)\n",
        "    return z\n",
        "\n",
        "z_train = get_latent_representations(encoder, rotated_x_train)\n",
        "z_test = get_latent_representations(encoder, rotated_x_test)\n",
        "\n",
        "# Enhanced classifier architecture with regularization\n",
        "def build_classifier(latent_dim):\n",
        "    inputs = layers.Input(shape=(latent_dim,))\n",
        "    x = layers.Dense(256, activation='swish', kernel_initializer='he_normal')(inputs)\n",
        "    x = layers.BatchNormalization()(x)\n",
        "    x = layers.Dropout(0.3)(x)\n",
        "    x = layers.Dense(128, activation='swish', kernel_initializer='he_normal')(x)\n",
        "    x = layers.BatchNormalization()(x)\n",
        "    x = layers.Dense(32, activation='swish', kernel_initializer='he_normal')(x)\n",
        "    outputs = layers.Dense(1, activation='sigmoid')(x)\n",
        "\n",
        "    classifier = keras.Model(inputs, outputs)\n",
        "    classifier.compile(\n",
        "        optimizer=keras.optimizers.Adam(learning_rate=1e-4),\n",
        "        loss='binary_crossentropy',\n",
        "        metrics=['accuracy']\n",
        "    )\n",
        "    return classifier\n",
        "\n",
        "# Train classifier with early stopping\n",
        "classifier = build_classifier(latent_dim)\n",
        "early_stopping = keras.callbacks.EarlyStopping(\n",
        "    monitor='val_accuracy', patience=10, restore_best_weights=True\n",
        ")\n",
        "history = classifier.fit(\n",
        "    z_train, rotated_y_train,\n",
        "    validation_data=(z_test, rotated_y_test),\n",
        "    epochs=100,\n",
        "    batch_size=256,\n",
        "    callbacks=[early_stopping]\n",
        ")\n",
        "\n",
        "# Enhanced symmetry generator with residual connections\n",
        "class SymmetryGenerator(keras.Model):\n",
        "    def __init__(self, latent_dim):\n",
        "        super(SymmetryGenerator, self).__init__()\n",
        "        self.net = keras.Sequential([\n",
        "            layers.Dense(128, activation='swish', kernel_initializer='he_normal'),\n",
        "            layers.BatchNormalization(),\n",
        "            layers.Dense(128, activation='swish', kernel_initializer='he_normal'),\n",
        "            layers.BatchNormalization(),\n",
        "            layers.Dense(latent_dim)\n",
        "        ])\n",
        "        self.residual = layers.Dense(latent_dim)\n",
        "\n",
        "    def call(self, inputs):\n",
        "        return self.net(inputs) + self.residual(inputs)\n",
        "\n",
        "# Optimized loss functions\n",
        "def invariance_loss(z, generator, classifier):\n",
        "    z_prime = z + epsilon * generator(z)\n",
        "    return tf.reduce_mean(tf.square(classifier(z) - classifier(z_prime)))\n",
        "\n",
        "def normalization_loss(z, generator):\n",
        "    norms = tf.norm(generator(z), axis=1)\n",
        "    mean_norm = tf.reduce_mean(norms)\n",
        "    return (\n",
        "        tf.reduce_mean(tf.square(norms - 1.0)) +\n",
        "        tf.reduce_mean(tf.square(norms - mean_norm))\n",
        "    )\n",
        "\n",
        "def orthogonality_loss(generators, z):\n",
        "    loss = 0\n",
        "    for i in range(len(generators)):\n",
        "        for j in range(i+1, len(generators)):\n",
        "            dot_prods = tf.reduce_sum(\n",
        "                generators[i](z) * generators[j](z),\n",
        "                axis=1\n",
        "            )\n",
        "            loss += tf.reduce_mean(tf.square(dot_prods))\n",
        "    return h_ortho * loss\n",
        "\n",
        "\n"
      ],
      "metadata": {
        "colab": {
          "base_uri": "https://localhost:8080/"
        },
        "id": "bBF9zBZxYKTf",
        "outputId": "c5d65066-0428-43f8-8f6e-e74e0f92838c"
      },
      "execution_count": 8,
      "outputs": [
        {
          "output_type": "stream",
          "name": "stdout",
          "text": [
            "\u001b[1m4763/4763\u001b[0m \u001b[32m━━━━━━━━━━━━━━━━━━━━\u001b[0m\u001b[37m\u001b[0m \u001b[1m8s\u001b[0m 1ms/step\n",
            "\u001b[1m813/813\u001b[0m \u001b[32m━━━━━━━━━━━━━━━━━━━━\u001b[0m\u001b[37m\u001b[0m \u001b[1m2s\u001b[0m 2ms/step\n",
            "Epoch 1/100\n",
            "\u001b[1m596/596\u001b[0m \u001b[32m━━━━━━━━━━━━━━━━━━━━\u001b[0m\u001b[37m\u001b[0m \u001b[1m8s\u001b[0m 6ms/step - accuracy: 0.3041 - loss: -4.4740 - val_accuracy: 0.5290 - val_loss: -14.8246\n",
            "Epoch 2/100\n",
            "\u001b[1m596/596\u001b[0m \u001b[32m━━━━━━━━━━━━━━━━━━━━\u001b[0m\u001b[37m\u001b[0m \u001b[1m2s\u001b[0m 3ms/step - accuracy: 0.5278 - loss: -40.6055 - val_accuracy: 0.5286 - val_loss: -42.4542\n",
            "Epoch 3/100\n",
            "\u001b[1m596/596\u001b[0m \u001b[32m━━━━━━━━━━━━━━━━━━━━\u001b[0m\u001b[37m\u001b[0m \u001b[1m2s\u001b[0m 3ms/step - accuracy: 0.5257 - loss: -104.3052 - val_accuracy: 0.5298 - val_loss: -85.4626\n",
            "Epoch 4/100\n",
            "\u001b[1m596/596\u001b[0m \u001b[32m━━━━━━━━━━━━━━━━━━━━\u001b[0m\u001b[37m\u001b[0m \u001b[1m2s\u001b[0m 3ms/step - accuracy: 0.5276 - loss: -201.4103 - val_accuracy: 0.5307 - val_loss: -146.1974\n",
            "Epoch 5/100\n",
            "\u001b[1m596/596\u001b[0m \u001b[32m━━━━━━━━━━━━━━━━━━━━\u001b[0m\u001b[37m\u001b[0m \u001b[1m2s\u001b[0m 3ms/step - accuracy: 0.5280 - loss: -336.4468 - val_accuracy: 0.5308 - val_loss: -223.7028\n",
            "Epoch 6/100\n",
            "\u001b[1m596/596\u001b[0m \u001b[32m━━━━━━━━━━━━━━━━━━━━\u001b[0m\u001b[37m\u001b[0m \u001b[1m2s\u001b[0m 3ms/step - accuracy: 0.5292 - loss: -511.0249 - val_accuracy: 0.5309 - val_loss: -323.4437\n",
            "Epoch 7/100\n",
            "\u001b[1m596/596\u001b[0m \u001b[32m━━━━━━━━━━━━━━━━━━━━\u001b[0m\u001b[37m\u001b[0m \u001b[1m2s\u001b[0m 3ms/step - accuracy: 0.5312 - loss: -727.1575 - val_accuracy: 0.5313 - val_loss: -440.8616\n",
            "Epoch 8/100\n",
            "\u001b[1m596/596\u001b[0m \u001b[32m━━━━━━━━━━━━━━━━━━━━\u001b[0m\u001b[37m\u001b[0m \u001b[1m2s\u001b[0m 3ms/step - accuracy: 0.5284 - loss: -991.3733 - val_accuracy: 0.5313 - val_loss: -583.6940\n",
            "Epoch 9/100\n",
            "\u001b[1m596/596\u001b[0m \u001b[32m━━━━━━━━━━━━━━━━━━━━\u001b[0m\u001b[37m\u001b[0m \u001b[1m2s\u001b[0m 3ms/step - accuracy: 0.5312 - loss: -1296.3496 - val_accuracy: 0.5313 - val_loss: -747.9778\n",
            "Epoch 10/100\n",
            "\u001b[1m596/596\u001b[0m \u001b[32m━━━━━━━━━━━━━━━━━━━━\u001b[0m\u001b[37m\u001b[0m \u001b[1m2s\u001b[0m 3ms/step - accuracy: 0.5306 - loss: -1652.1477 - val_accuracy: 0.5314 - val_loss: -934.2318\n",
            "Epoch 11/100\n",
            "\u001b[1m596/596\u001b[0m \u001b[32m━━━━━━━━━━━━━━━━━━━━\u001b[0m\u001b[37m\u001b[0m \u001b[1m2s\u001b[0m 3ms/step - accuracy: 0.5311 - loss: -2058.3040 - val_accuracy: 0.5315 - val_loss: -1143.1982\n",
            "Epoch 12/100\n",
            "\u001b[1m596/596\u001b[0m \u001b[32m━━━━━━━━━━━━━━━━━━━━\u001b[0m\u001b[37m\u001b[0m \u001b[1m2s\u001b[0m 3ms/step - accuracy: 0.5317 - loss: -2517.4565 - val_accuracy: 0.5315 - val_loss: -1378.6992\n",
            "Epoch 13/100\n",
            "\u001b[1m596/596\u001b[0m \u001b[32m━━━━━━━━━━━━━━━━━━━━\u001b[0m\u001b[37m\u001b[0m \u001b[1m2s\u001b[0m 3ms/step - accuracy: 0.5319 - loss: -3034.0044 - val_accuracy: 0.5315 - val_loss: -1651.6720\n",
            "Epoch 14/100\n",
            "\u001b[1m596/596\u001b[0m \u001b[32m━━━━━━━━━━━━━━━━━━━━\u001b[0m\u001b[37m\u001b[0m \u001b[1m2s\u001b[0m 3ms/step - accuracy: 0.5334 - loss: -3600.1399 - val_accuracy: 0.5315 - val_loss: -1946.8884\n",
            "Epoch 15/100\n",
            "\u001b[1m596/596\u001b[0m \u001b[32m━━━━━━━━━━━━━━━━━━━━\u001b[0m\u001b[37m\u001b[0m \u001b[1m2s\u001b[0m 3ms/step - accuracy: 0.5301 - loss: -4242.4683 - val_accuracy: 0.5316 - val_loss: -2262.8743\n",
            "Epoch 16/100\n",
            "\u001b[1m596/596\u001b[0m \u001b[32m━━━━━━━━━━━━━━━━━━━━\u001b[0m\u001b[37m\u001b[0m \u001b[1m2s\u001b[0m 3ms/step - accuracy: 0.5297 - loss: -4941.3364 - val_accuracy: 0.5316 - val_loss: -2637.8147\n",
            "Epoch 17/100\n",
            "\u001b[1m596/596\u001b[0m \u001b[32m━━━━━━━━━━━━━━━━━━━━\u001b[0m\u001b[37m\u001b[0m \u001b[1m2s\u001b[0m 3ms/step - accuracy: 0.5300 - loss: -5695.3120 - val_accuracy: 0.5316 - val_loss: -3019.3994\n",
            "Epoch 18/100\n",
            "\u001b[1m596/596\u001b[0m \u001b[32m━━━━━━━━━━━━━━━━━━━━\u001b[0m\u001b[37m\u001b[0m \u001b[1m2s\u001b[0m 3ms/step - accuracy: 0.5319 - loss: -6514.6641 - val_accuracy: 0.5316 - val_loss: -3425.1816\n",
            "Epoch 19/100\n",
            "\u001b[1m596/596\u001b[0m \u001b[32m━━━━━━━━━━━━━━━━━━━━\u001b[0m\u001b[37m\u001b[0m \u001b[1m2s\u001b[0m 3ms/step - accuracy: 0.5306 - loss: -7413.3481 - val_accuracy: 0.5316 - val_loss: -3878.9143\n",
            "Epoch 20/100\n",
            "\u001b[1m596/596\u001b[0m \u001b[32m━━━━━━━━━━━━━━━━━━━━\u001b[0m\u001b[37m\u001b[0m \u001b[1m2s\u001b[0m 3ms/step - accuracy: 0.5299 - loss: -8387.7236 - val_accuracy: 0.5316 - val_loss: -4362.7056\n",
            "Epoch 21/100\n",
            "\u001b[1m596/596\u001b[0m \u001b[32m━━━━━━━━━━━━━━━━━━━━\u001b[0m\u001b[37m\u001b[0m \u001b[1m2s\u001b[0m 3ms/step - accuracy: 0.5296 - loss: -9429.7588 - val_accuracy: 0.5316 - val_loss: -4890.2827\n",
            "Epoch 22/100\n",
            "\u001b[1m596/596\u001b[0m \u001b[32m━━━━━━━━━━━━━━━━━━━━\u001b[0m\u001b[37m\u001b[0m \u001b[1m2s\u001b[0m 3ms/step - accuracy: 0.5306 - loss: -10551.9756 - val_accuracy: 0.5316 - val_loss: -5413.4609\n",
            "Epoch 23/100\n",
            "\u001b[1m596/596\u001b[0m \u001b[32m━━━━━━━━━━━━━━━━━━━━\u001b[0m\u001b[37m\u001b[0m \u001b[1m2s\u001b[0m 3ms/step - accuracy: 0.5320 - loss: -11736.3262 - val_accuracy: 0.5316 - val_loss: -6024.4131\n",
            "Epoch 24/100\n",
            "\u001b[1m596/596\u001b[0m \u001b[32m━━━━━━━━━━━━━━━━━━━━\u001b[0m\u001b[37m\u001b[0m \u001b[1m2s\u001b[0m 3ms/step - accuracy: 0.5320 - loss: -13015.7666 - val_accuracy: 0.5316 - val_loss: -6668.1514\n",
            "Epoch 25/100\n",
            "\u001b[1m596/596\u001b[0m \u001b[32m━━━━━━━━━━━━━━━━━━━━\u001b[0m\u001b[37m\u001b[0m \u001b[1m2s\u001b[0m 3ms/step - accuracy: 0.5283 - loss: -14420.3564 - val_accuracy: 0.5316 - val_loss: -7363.6611\n"
          ]
        }
      ]
    },
    {
      "cell_type": "code",
      "source": [
        "import tensorflow as tf\n",
        "from tensorflow.keras import layers, losses\n",
        "import numpy as np\n",
        "\n",
        "\n",
        "class BinaryLatentOracle(tf.keras.Model):\n",
        "    def __init__(self, latent_dim=32):\n",
        "        super().__init__()\n",
        "        self.classifier = tf.keras.Sequential([\n",
        "            layers.Dense(128, activation='swish', input_shape=(latent_dim,)),\n",
        "            layers.Dense(128, activation='swish'),\n",
        "            layers.Dense(32, activation='swish'),\n",
        "            layers.Dense(2)  # 2 outputs for one-hot encoded binary classification\n",
        "        ])\n",
        "\n",
        "    def call(self, z):\n",
        "        return self.classifier(z)\n",
        "\n",
        "\n",
        "def train_binary_oracle(encoder, x_train, y_train):\n",
        "    # Convert labels to 0/1 and categorical\n",
        "    y_train = tf.keras.utils.to_categorical(y_train - 1, 2)\n",
        "\n",
        "    z_mean, _, _ = encoder.predict(x_train)\n",
        "\n",
        "    # Initialize and compile oracle\n",
        "    oracle = BinaryLatentOracle(latent_dim=32)\n",
        "    oracle.compile(\n",
        "        optimizer=tf.keras.optimizers.Adam(learning_rate=1e-4),\n",
        "        loss=losses.BinaryCrossentropy(from_logits=True),\n",
        "        metrics=['accuracy']\n",
        "    )\n",
        "\n",
        "    # Train with early stopping\n",
        "    early_stop = tf.keras.callbacks.EarlyStopping(\n",
        "        monitor='val_accuracy', patience=5, restore_best_weights=True\n",
        "    )\n",
        "\n",
        "    oracle.fit(\n",
        "        z_mean, y_train,\n",
        "        validation_split=0.2,\n",
        "        epochs=50,\n",
        "        batch_size=256,\n",
        "        callbacks=[early_stop]\n",
        "    )\n",
        "\n",
        "    return oracle\n",
        "\n",
        "\n"
      ],
      "metadata": {
        "id": "rmHLH8P2x83a"
      },
      "execution_count": 45,
      "outputs": []
    },
    {
      "cell_type": "code",
      "source": [
        "y_train = rotated_y_train\n",
        "y_test = rotated_y_test\n",
        "\n",
        "# Train binary oracle\n",
        "binary_oracle = train_binary_oracle(encoder, rotated_x_train, y_train)\n",
        "\n"
      ],
      "metadata": {
        "colab": {
          "base_uri": "https://localhost:8080/"
        },
        "id": "r9Fsd_N-yFzd",
        "outputId": "2e9f463b-3e24-424d-999c-991516662796"
      },
      "execution_count": 46,
      "outputs": [
        {
          "output_type": "stream",
          "name": "stdout",
          "text": [
            "\u001b[1m4763/4763\u001b[0m \u001b[32m━━━━━━━━━━━━━━━━━━━━\u001b[0m\u001b[37m\u001b[0m \u001b[1m6s\u001b[0m 1ms/step\n",
            "Epoch 1/50\n"
          ]
        },
        {
          "output_type": "stream",
          "name": "stderr",
          "text": [
            "/usr/local/lib/python3.11/dist-packages/keras/src/layers/core/dense.py:87: UserWarning: Do not pass an `input_shape`/`input_dim` argument to a layer. When using Sequential models, prefer using an `Input(shape)` object as the first layer in the model instead.\n",
            "  super().__init__(activity_regularizer=activity_regularizer, **kwargs)\n"
          ]
        },
        {
          "output_type": "stream",
          "name": "stdout",
          "text": [
            "\u001b[1m477/477\u001b[0m \u001b[32m━━━━━━━━━━━━━━━━━━━━\u001b[0m\u001b[37m\u001b[0m \u001b[1m5s\u001b[0m 6ms/step - accuracy: 0.8586 - loss: 2.3668 - val_accuracy: 0.9817 - val_loss: 0.1072\n",
            "Epoch 2/50\n",
            "\u001b[1m477/477\u001b[0m \u001b[32m━━━━━━━━━━━━━━━━━━━━\u001b[0m\u001b[37m\u001b[0m \u001b[1m1s\u001b[0m 3ms/step - accuracy: 0.9796 - loss: 0.1257 - val_accuracy: 0.9835 - val_loss: 0.0779\n",
            "Epoch 3/50\n",
            "\u001b[1m477/477\u001b[0m \u001b[32m━━━━━━━━━━━━━━━━━━━━\u001b[0m\u001b[37m\u001b[0m \u001b[1m1s\u001b[0m 3ms/step - accuracy: 0.9807 - loss: 0.0974 - val_accuracy: 0.9853 - val_loss: 0.0655\n",
            "Epoch 4/50\n",
            "\u001b[1m477/477\u001b[0m \u001b[32m━━━━━━━━━━━━━━━━━━━━\u001b[0m\u001b[37m\u001b[0m \u001b[1m1s\u001b[0m 3ms/step - accuracy: 0.9818 - loss: 0.0837 - val_accuracy: 0.9860 - val_loss: 0.0581\n",
            "Epoch 5/50\n",
            "\u001b[1m477/477\u001b[0m \u001b[32m━━━━━━━━━━━━━━━━━━━━\u001b[0m\u001b[37m\u001b[0m \u001b[1m1s\u001b[0m 3ms/step - accuracy: 0.9827 - loss: 0.0746 - val_accuracy: 0.9867 - val_loss: 0.0538\n",
            "Epoch 6/50\n",
            "\u001b[1m477/477\u001b[0m \u001b[32m━━━━━━━━━━━━━━━━━━━━\u001b[0m\u001b[37m\u001b[0m \u001b[1m1s\u001b[0m 3ms/step - accuracy: 0.9832 - loss: 0.0701 - val_accuracy: 0.9871 - val_loss: 0.0510\n",
            "Epoch 7/50\n",
            "\u001b[1m477/477\u001b[0m \u001b[32m━━━━━━━━━━━━━━━━━━━━\u001b[0m\u001b[37m\u001b[0m \u001b[1m1s\u001b[0m 3ms/step - accuracy: 0.9833 - loss: 0.0652 - val_accuracy: 0.9869 - val_loss: 0.0510\n",
            "Epoch 8/50\n",
            "\u001b[1m477/477\u001b[0m \u001b[32m━━━━━━━━━━━━━━━━━━━━\u001b[0m\u001b[37m\u001b[0m \u001b[1m1s\u001b[0m 3ms/step - accuracy: 0.9841 - loss: 0.0606 - val_accuracy: 0.9871 - val_loss: 0.0493\n",
            "Epoch 9/50\n",
            "\u001b[1m477/477\u001b[0m \u001b[32m━━━━━━━━━━━━━━━━━━━━\u001b[0m\u001b[37m\u001b[0m \u001b[1m1s\u001b[0m 3ms/step - accuracy: 0.9847 - loss: 0.0587 - val_accuracy: 0.9872 - val_loss: 0.0461\n",
            "Epoch 10/50\n",
            "\u001b[1m477/477\u001b[0m \u001b[32m━━━━━━━━━━━━━━━━━━━━\u001b[0m\u001b[37m\u001b[0m \u001b[1m1s\u001b[0m 3ms/step - accuracy: 0.9849 - loss: 0.0555 - val_accuracy: 0.9871 - val_loss: 0.0490\n",
            "Epoch 11/50\n",
            "\u001b[1m477/477\u001b[0m \u001b[32m━━━━━━━━━━━━━━━━━━━━\u001b[0m\u001b[37m\u001b[0m \u001b[1m1s\u001b[0m 3ms/step - accuracy: 0.9838 - loss: 0.0564 - val_accuracy: 0.9879 - val_loss: 0.0452\n",
            "Epoch 12/50\n",
            "\u001b[1m477/477\u001b[0m \u001b[32m━━━━━━━━━━━━━━━━━━━━\u001b[0m\u001b[37m\u001b[0m \u001b[1m1s\u001b[0m 3ms/step - accuracy: 0.9848 - loss: 0.0533 - val_accuracy: 0.9862 - val_loss: 0.0509\n",
            "Epoch 13/50\n",
            "\u001b[1m477/477\u001b[0m \u001b[32m━━━━━━━━━━━━━━━━━━━━\u001b[0m\u001b[37m\u001b[0m \u001b[1m1s\u001b[0m 3ms/step - accuracy: 0.9850 - loss: 0.0543 - val_accuracy: 0.9874 - val_loss: 0.0438\n",
            "Epoch 14/50\n",
            "\u001b[1m477/477\u001b[0m \u001b[32m━━━━━━━━━━━━━━━━━━━━\u001b[0m\u001b[37m\u001b[0m \u001b[1m1s\u001b[0m 3ms/step - accuracy: 0.9850 - loss: 0.0521 - val_accuracy: 0.9881 - val_loss: 0.0425\n",
            "Epoch 15/50\n",
            "\u001b[1m477/477\u001b[0m \u001b[32m━━━━━━━━━━━━━━━━━━━━\u001b[0m\u001b[37m\u001b[0m \u001b[1m1s\u001b[0m 3ms/step - accuracy: 0.9850 - loss: 0.0516 - val_accuracy: 0.9872 - val_loss: 0.0458\n",
            "Epoch 16/50\n",
            "\u001b[1m477/477\u001b[0m \u001b[32m━━━━━━━━━━━━━━━━━━━━\u001b[0m\u001b[37m\u001b[0m \u001b[1m1s\u001b[0m 3ms/step - accuracy: 0.9851 - loss: 0.0488 - val_accuracy: 0.9876 - val_loss: 0.0434\n",
            "Epoch 17/50\n",
            "\u001b[1m477/477\u001b[0m \u001b[32m━━━━━━━━━━━━━━━━━━━━\u001b[0m\u001b[37m\u001b[0m \u001b[1m1s\u001b[0m 3ms/step - accuracy: 0.9857 - loss: 0.0479 - val_accuracy: 0.9886 - val_loss: 0.0407\n",
            "Epoch 18/50\n",
            "\u001b[1m477/477\u001b[0m \u001b[32m━━━━━━━━━━━━━━━━━━━━\u001b[0m\u001b[37m\u001b[0m \u001b[1m1s\u001b[0m 3ms/step - accuracy: 0.9857 - loss: 0.0473 - val_accuracy: 0.9877 - val_loss: 0.0423\n",
            "Epoch 19/50\n",
            "\u001b[1m477/477\u001b[0m \u001b[32m━━━━━━━━━━━━━━━━━━━━\u001b[0m\u001b[37m\u001b[0m \u001b[1m1s\u001b[0m 3ms/step - accuracy: 0.9861 - loss: 0.0471 - val_accuracy: 0.9884 - val_loss: 0.0415\n",
            "Epoch 20/50\n",
            "\u001b[1m477/477\u001b[0m \u001b[32m━━━━━━━━━━━━━━━━━━━━\u001b[0m\u001b[37m\u001b[0m \u001b[1m1s\u001b[0m 3ms/step - accuracy: 0.9853 - loss: 0.0474 - val_accuracy: 0.9888 - val_loss: 0.0412\n",
            "Epoch 21/50\n",
            "\u001b[1m477/477\u001b[0m \u001b[32m━━━━━━━━━━━━━━━━━━━━\u001b[0m\u001b[37m\u001b[0m \u001b[1m1s\u001b[0m 3ms/step - accuracy: 0.9855 - loss: 0.0475 - val_accuracy: 0.9882 - val_loss: 0.0404\n",
            "Epoch 22/50\n",
            "\u001b[1m477/477\u001b[0m \u001b[32m━━━━━━━━━━━━━━━━━━━━\u001b[0m\u001b[37m\u001b[0m \u001b[1m1s\u001b[0m 3ms/step - accuracy: 0.9863 - loss: 0.0436 - val_accuracy: 0.9879 - val_loss: 0.0412\n",
            "Epoch 23/50\n",
            "\u001b[1m477/477\u001b[0m \u001b[32m━━━━━━━━━━━━━━━━━━━━\u001b[0m\u001b[37m\u001b[0m \u001b[1m1s\u001b[0m 3ms/step - accuracy: 0.9862 - loss: 0.0451 - val_accuracy: 0.9885 - val_loss: 0.0404\n",
            "Epoch 24/50\n",
            "\u001b[1m477/477\u001b[0m \u001b[32m━━━━━━━━━━━━━━━━━━━━\u001b[0m\u001b[37m\u001b[0m \u001b[1m1s\u001b[0m 3ms/step - accuracy: 0.9859 - loss: 0.0454 - val_accuracy: 0.9879 - val_loss: 0.0429\n",
            "Epoch 25/50\n",
            "\u001b[1m477/477\u001b[0m \u001b[32m━━━━━━━━━━━━━━━━━━━━\u001b[0m\u001b[37m\u001b[0m \u001b[1m1s\u001b[0m 3ms/step - accuracy: 0.9865 - loss: 0.0445 - val_accuracy: 0.9887 - val_loss: 0.0406\n"
          ]
        }
      ]
    },
    {
      "cell_type": "markdown",
      "source": [],
      "metadata": {
        "id": "LDEyivx-yM-V"
      }
    },
    {
      "cell_type": "code",
      "source": [
        "def visualize_binary_symmetries(encoder, decoder, oracle, test_images, test_labels, num_steps=3, epsilon=1e-4, generator=None): # Add generator parameter\n",
        "    # Preprocess test data\n",
        "    test_images = test_images.reshape(-1, 28, 28, 1).astype('float32') / 255.0\n",
        "    test_labels = tf.keras.utils.to_categorical(test_labels - 1, 2)  # Map 1->0, 2->1\n",
        "\n",
        "    # Get latent representations\n",
        "    z_mean, _, _ = encoder.predict(test_images, verbose=0)\n",
        "\n",
        "    # Find platonic samples for each class\n",
        "    platonic_samples = []\n",
        "    for digit in [0, 1]:  # Corresponding to original labels 1 and 2\n",
        "        class_mask = np.argmax(test_labels, axis=1) == digit\n",
        "        class_z = z_mean[class_mask]\n",
        "        cluster_center = np.mean(class_z, axis=0)\n",
        "        distances = np.linalg.norm(class_z - cluster_center, axis=1)\n",
        "        platonic_samples.append(test_images[class_mask][np.argmin(distances)])\n",
        "\n",
        "    # Create visualization grid\n",
        "    fig, axes = plt.subplots(2, 2*num_steps+1, figsize=(15,4))\n",
        "\n",
        "    for row_idx, original_img in enumerate(platonic_samples):\n",
        "        # Encode original image\n",
        "        z_orig, _, _ = encoder.predict(original_img[None], verbose=0)\n",
        "\n",
        "        # Generate transformations\n",
        "        transformed_images = []\n",
        "        confidences = []\n",
        "\n",
        "        # Negative direction\n",
        "        current_z = z_orig.copy()\n",
        "        for _ in range(num_steps):\n",
        "            delta_z = generator.predict(current_z, verbose=0)\n",
        "            current_z -= epsilon * delta_z\n",
        "            decoded_img = decoder.predict(current_z, verbose=0)[0]\n",
        "            transformed_images.insert(0, decoded_img)\n",
        "            confidences.insert(0, tf.sigmoid(oracle.predict(current_z, verbose=0)).numpy()[0][0])\n",
        "\n",
        "        # Add original image\n",
        "        transformed_images.append(original_img)\n",
        "        confidences.append(tf.sigmoid(oracle.predict(z_orig, verbose=0)).numpy()[0][0])\n",
        "\n",
        "        # Positive direction\n",
        "        current_z = z_orig.copy()\n",
        "        for _ in range(num_steps):\n",
        "            delta_z = generator.predict(current_z, verbose=0)\n",
        "            current_z += epsilon * delta_z\n",
        "            decoded_img = decoder.predict(current_z, verbose=0)[0]\n",
        "            transformed_images.append(decoded_img)\n",
        "            confidences.append(tf.sigmoid(oracle.predict(current_z, verbose=0)).numpy()[0][0])\n",
        "\n",
        "        # Plot row\n",
        "        for col_idx, (img, conf) in enumerate(zip(transformed_images, confidences)):\n",
        "            ax = axes[row_idx, col_idx]\n",
        "            ax.imshow(img.squeeze(), cmap='gray')\n",
        "            ax.axis('off')\n",
        "\n",
        "            # Add labels\n",
        "            delta = (col_idx - num_steps) * epsilon\n",
        "            true_label = 1 if row_idx == 0 else 2  # Reverse mapping\n",
        "            if col_idx == num_steps:\n",
        "                ax.set_title(f'Class {true_label}\\nε=0\\nConf: {conf:.2f}', fontsize=8)\n",
        "            else:\n",
        "                ax.set_title(f'ε={delta:.0e}\\nConf: {conf:.2f}', fontsize=8)\n",
        "\n",
        "    plt.tight_layout()\n",
        "    plt.show()\n",
        "\n",
        "\n"
      ],
      "metadata": {
        "id": "rayCqjQVyLm8"
      },
      "execution_count": 51,
      "outputs": []
    },
    {
      "cell_type": "code",
      "source": [
        "# Evaluate\n",
        "z_test_mean, _, _ = encoder.predict(rotated_x_test)\n",
        "test_loss, test_acc = binary_oracle.evaluate(z_test_mean,\n",
        "                                           tf.keras.utils.to_categorical(y_test-1, 2))\n",
        "print(f\"Binary Oracle Test Accuracy: {test_acc:.4f}\")\n",
        "\n",
        "# Visualization (requires trained generator)\n",
        "# Assuming 'generators' is a list containing the trained generator:\n",
        "visualize_binary_symmetries(encoder, decoder, binary_oracle,\n",
        "                          rotated_x_test, rotated_y_test,\n",
        "                          num_steps=3, epsilon=1e-4, generator=generators[0]) # Pass the generator"
      ],
      "metadata": {
        "colab": {
          "base_uri": "https://localhost:8080/",
          "height": 422
        },
        "id": "eb9PdIRTyPsN",
        "outputId": "e56dcf35-583b-4107-cd27-3f0f0cedac49"
      },
      "execution_count": 52,
      "outputs": [
        {
          "output_type": "stream",
          "name": "stdout",
          "text": [
            "\u001b[1m813/813\u001b[0m \u001b[32m━━━━━━━━━━━━━━━━━━━━\u001b[0m\u001b[37m\u001b[0m \u001b[1m1s\u001b[0m 1ms/step\n",
            "\u001b[1m813/813\u001b[0m \u001b[32m━━━━━━━━━━━━━━━━━━━━\u001b[0m\u001b[37m\u001b[0m \u001b[1m2s\u001b[0m 2ms/step - accuracy: 0.4904 - loss: 4.4687\n",
            "Binary Oracle Test Accuracy: 0.4867\n"
          ]
        },
        {
          "output_type": "display_data",
          "data": {
            "text/plain": [
              "<Figure size 1500x400 with 14 Axes>"
            ],
            "image/png": "[encoded data removed]"
          },
          "metadata": {}
        }
      ]
    }
  ]
}