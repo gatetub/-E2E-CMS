{
  "nbformat": 4,
  "nbformat_minor": 0,
  "metadata": {
    "colab": {
      "provenance": []
    },
    "kernelspec": {
      "name": "python3",
      "display_name": "Python 3"
    },
    "language_info": {
      "name": "python"
    }
  },
  "cells": [
    {
      "cell_type": "code",
      "execution_count": null,
      "metadata": {
        "id": "4qAe9cKYRctr"
      },
      "outputs": [],
      "source": [
        "import tensorflow as tf\n",
        "import numpy as np\n",
        "from scipy.ndimage import rotate\n",
        "\n",
        "# Load the MNIST dataset\n",
        "(x_train, y_train), (x_test, y_test) = tf.keras.datasets.mnist.load_data()\n",
        "\n",
        "# Select only digits 1 and 2 (adjust as needed based on computational budget)\n",
        "train_indices = np.where((y_train == 1) | (y_train == 2))[0]\n",
        "x_train = x_train[train_indices]\n",
        "y_train = y_train[train_indices]\n",
        "\n",
        "test_indices = np.where((y_test == 1) | (y_test == 2))[0]\n",
        "x_test = x_test[test_indices]\n",
        "y_test = y_test[test_indices]\n",
        "\n",
        "# Function to rotate images\n",
        "def rotate_images(images, angles):\n",
        "    rotated_images = []\n",
        "    for image in images:\n",
        "        for angle in angles:\n",
        "            rotated_image = rotate(image, angle, reshape=False, mode='nearest')\n",
        "            rotated_images.append(rotated_image)\n",
        "    return np.array(rotated_images)\n",
        "\n",
        "# Define rotation angles (in steps of 30 degrees)\n",
        "angles = [30 * i for i in range(12)] # 0 to 330 degrees\n",
        "\n",
        "# Rotate training and testing images\n",
        "rotated_x_train = rotate_images(x_train, angles)\n",
        "rotated_x_test = rotate_images(x_test, angles)\n",
        "\n",
        "\n",
        "# Create corresponding labels for rotated images\n",
        "rotated_y_train = np.tile(y_train, len(angles))\n",
        "rotated_y_test = np.tile(y_test, len(angles))\n",
        "\n",
        "\n",
        "# Store the data (example using NumPy's .npz format)\n",
        "np.savez_compressed('rotated_mnist.npz',\n",
        "                    x_train=rotated_x_train, y_train=rotated_y_train,\n",
        "                    x_test=rotated_x_test, y_test=rotated_y_test)\n",
        "\n",
        "print(\"Rotated MNIST dataset saved to rotated_mnist.npz\")\n"
      ]
    }
  ]
}